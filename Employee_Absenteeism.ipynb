{
 "cells": [
  {
   "cell_type": "markdown",
   "metadata": {},
   "source": [
    "# Problem Statement- Employee Absenteeism\n",
    "Project Description and Problem statement -\n",
    "XYZ is a courier company. As we appreciate that human capital plays an important role\n",
    "in collection, transportation and delivery. The company is passing through genuine\n",
    "issue of Absenteeism. The company has shared it dataset and requested to have an\n",
    "answer on the following areas: What changes company should bring to reduce the number of absenteeism?\n",
    "\n",
    "Target variable is continuous.  we will classify the target hours in bins and treat this machcine Learning problem as  classification.\n",
    "\n",
    "     Absenteeism Time (in hours)    Output Sub-Class      Frequency\n",
    " \n",
    "     More than 7                       Class 5               262\n",
    " \n",
    "     Between 3 - 5                     Class 2               177\n",
    " \n",
    "     Less than equal 2                 Class 1               279"
   ]
  },
  {
   "cell_type": "code",
   "execution_count": 2,
   "metadata": {},
   "outputs": [
    {
     "name": "stderr",
     "output_type": "stream",
     "text": [
      "Using TensorFlow backend.\n"
     ]
    }
   ],
   "source": [
    "#Load libraries\n",
    "import os\n",
    "import pandas as pd\n",
    "import numpy as np\n",
    "import matplotlib.pyplot as plt\n",
    "import seaborn as sns\n",
    "from fancyimpute import KNN\n",
    "\n",
    "# error metrics\n",
    "from sklearn.metrics import log_loss\n",
    "from sklearn.metrics import balanced_accuracy_score\n",
    "from sklearn import metrics\n",
    "from sklearn.metrics import classification_report\n",
    "from sklearn.metrics import confusion_matrix\n",
    "\n",
    "#ANOVA F Test\n",
    "\n",
    "import statsmodels.formula.api as smf\n",
    "import statsmodels.stats.multicomp as multi\n",
    "\n",
    "\n",
    "import warnings\n",
    "import itertools\n",
    "warnings.filterwarnings(\"ignore\")\n",
    "plt.style.use('fivethirtyeight')\n",
    "\n",
    "import statsmodels.api as sm\n",
    "import matplotlib\n",
    "matplotlib.rcParams['axes.labelsize'] = 14\n",
    "matplotlib.rcParams['xtick.labelsize'] = 12\n",
    "matplotlib.rcParams['ytick.labelsize'] = 12\n",
    "matplotlib.rcParams['text.color'] = 'k'"
   ]
  },
  {
   "cell_type": "code",
   "execution_count": 110,
   "metadata": {},
   "outputs": [],
   "source": [
    "#Set working directory\n",
    "os.chdir(r\"C:\\Projects\")"
   ]
  },
  {
   "cell_type": "code",
   "execution_count": 111,
   "metadata": {},
   "outputs": [],
   "source": [
    "# Load data and save original copy\n",
    "df = pd.read_excel('Absenteeism_at_work_Project.xls')\n",
    "df_original=df.copy() "
   ]
  },
  {
   "cell_type": "code",
   "execution_count": 112,
   "metadata": {},
   "outputs": [
    {
     "data": {
      "text/plain": [
       "'C:\\\\Projects'"
      ]
     },
     "execution_count": 112,
     "metadata": {},
     "output_type": "execute_result"
    }
   ],
   "source": [
    "# get current working directory\n",
    "os.getcwd()"
   ]
  },
  {
   "cell_type": "markdown",
   "metadata": {},
   "source": [
    "# hypothesis generation\n"
   ]
  },
  {
   "cell_type": "markdown",
   "metadata": {},
   "source": [
    "# These are some of the hypotheseis which could affect the abseentism  time:\n",
    "1. Severe medical condition will lead to higher abseentism.\n",
    "2. Higher transportation expense and 'distance from residence to work' will lead to higher abseentism.\n"
   ]
  },
  {
   "cell_type": "markdown",
   "metadata": {},
   "source": [
    "# Exploratory data analysis"
   ]
  },
  {
   "cell_type": "code",
   "execution_count": 6,
   "metadata": {},
   "outputs": [
    {
     "data": {
      "text/html": [
       "<div>\n",
       "<style scoped>\n",
       "    .dataframe tbody tr th:only-of-type {\n",
       "        vertical-align: middle;\n",
       "    }\n",
       "\n",
       "    .dataframe tbody tr th {\n",
       "        vertical-align: top;\n",
       "    }\n",
       "\n",
       "    .dataframe thead th {\n",
       "        text-align: right;\n",
       "    }\n",
       "</style>\n",
       "<table border=\"1\" class=\"dataframe\">\n",
       "  <thead>\n",
       "    <tr style=\"text-align: right;\">\n",
       "      <th></th>\n",
       "      <th>ID</th>\n",
       "      <th>Reason for absence</th>\n",
       "      <th>Month of absence</th>\n",
       "      <th>Day of the week</th>\n",
       "      <th>Seasons</th>\n",
       "      <th>Transportation expense</th>\n",
       "      <th>Distance from Residence to Work</th>\n",
       "      <th>Service time</th>\n",
       "      <th>Age</th>\n",
       "      <th>Work load Average/day</th>\n",
       "      <th>...</th>\n",
       "      <th>Disciplinary failure</th>\n",
       "      <th>Education</th>\n",
       "      <th>Son</th>\n",
       "      <th>Social drinker</th>\n",
       "      <th>Social smoker</th>\n",
       "      <th>Pet</th>\n",
       "      <th>Weight</th>\n",
       "      <th>Height</th>\n",
       "      <th>Body mass index</th>\n",
       "      <th>Absenteeism time in hours</th>\n",
       "    </tr>\n",
       "  </thead>\n",
       "  <tbody>\n",
       "    <tr>\n",
       "      <th>0</th>\n",
       "      <td>11</td>\n",
       "      <td>26.0</td>\n",
       "      <td>7.0</td>\n",
       "      <td>3</td>\n",
       "      <td>1</td>\n",
       "      <td>289.0</td>\n",
       "      <td>36.0</td>\n",
       "      <td>13.0</td>\n",
       "      <td>33.0</td>\n",
       "      <td>239554.0</td>\n",
       "      <td>...</td>\n",
       "      <td>0.0</td>\n",
       "      <td>1.0</td>\n",
       "      <td>2.0</td>\n",
       "      <td>1.0</td>\n",
       "      <td>0.0</td>\n",
       "      <td>1.0</td>\n",
       "      <td>90.0</td>\n",
       "      <td>172.0</td>\n",
       "      <td>30.0</td>\n",
       "      <td>4.0</td>\n",
       "    </tr>\n",
       "    <tr>\n",
       "      <th>1</th>\n",
       "      <td>36</td>\n",
       "      <td>0.0</td>\n",
       "      <td>7.0</td>\n",
       "      <td>3</td>\n",
       "      <td>1</td>\n",
       "      <td>118.0</td>\n",
       "      <td>13.0</td>\n",
       "      <td>18.0</td>\n",
       "      <td>50.0</td>\n",
       "      <td>239554.0</td>\n",
       "      <td>...</td>\n",
       "      <td>1.0</td>\n",
       "      <td>1.0</td>\n",
       "      <td>1.0</td>\n",
       "      <td>1.0</td>\n",
       "      <td>0.0</td>\n",
       "      <td>0.0</td>\n",
       "      <td>98.0</td>\n",
       "      <td>178.0</td>\n",
       "      <td>31.0</td>\n",
       "      <td>0.0</td>\n",
       "    </tr>\n",
       "    <tr>\n",
       "      <th>2</th>\n",
       "      <td>3</td>\n",
       "      <td>23.0</td>\n",
       "      <td>7.0</td>\n",
       "      <td>4</td>\n",
       "      <td>1</td>\n",
       "      <td>179.0</td>\n",
       "      <td>51.0</td>\n",
       "      <td>18.0</td>\n",
       "      <td>38.0</td>\n",
       "      <td>239554.0</td>\n",
       "      <td>...</td>\n",
       "      <td>0.0</td>\n",
       "      <td>1.0</td>\n",
       "      <td>0.0</td>\n",
       "      <td>1.0</td>\n",
       "      <td>0.0</td>\n",
       "      <td>0.0</td>\n",
       "      <td>89.0</td>\n",
       "      <td>170.0</td>\n",
       "      <td>31.0</td>\n",
       "      <td>2.0</td>\n",
       "    </tr>\n",
       "    <tr>\n",
       "      <th>3</th>\n",
       "      <td>7</td>\n",
       "      <td>7.0</td>\n",
       "      <td>7.0</td>\n",
       "      <td>5</td>\n",
       "      <td>1</td>\n",
       "      <td>279.0</td>\n",
       "      <td>5.0</td>\n",
       "      <td>14.0</td>\n",
       "      <td>39.0</td>\n",
       "      <td>239554.0</td>\n",
       "      <td>...</td>\n",
       "      <td>0.0</td>\n",
       "      <td>1.0</td>\n",
       "      <td>2.0</td>\n",
       "      <td>1.0</td>\n",
       "      <td>1.0</td>\n",
       "      <td>0.0</td>\n",
       "      <td>68.0</td>\n",
       "      <td>168.0</td>\n",
       "      <td>24.0</td>\n",
       "      <td>4.0</td>\n",
       "    </tr>\n",
       "    <tr>\n",
       "      <th>4</th>\n",
       "      <td>11</td>\n",
       "      <td>23.0</td>\n",
       "      <td>7.0</td>\n",
       "      <td>5</td>\n",
       "      <td>1</td>\n",
       "      <td>289.0</td>\n",
       "      <td>36.0</td>\n",
       "      <td>13.0</td>\n",
       "      <td>33.0</td>\n",
       "      <td>239554.0</td>\n",
       "      <td>...</td>\n",
       "      <td>0.0</td>\n",
       "      <td>1.0</td>\n",
       "      <td>2.0</td>\n",
       "      <td>1.0</td>\n",
       "      <td>0.0</td>\n",
       "      <td>1.0</td>\n",
       "      <td>90.0</td>\n",
       "      <td>172.0</td>\n",
       "      <td>30.0</td>\n",
       "      <td>2.0</td>\n",
       "    </tr>\n",
       "  </tbody>\n",
       "</table>\n",
       "<p>5 rows × 21 columns</p>\n",
       "</div>"
      ],
      "text/plain": [
       "   ID  Reason for absence  Month of absence  Day of the week  Seasons  \\\n",
       "0  11                26.0               7.0                3        1   \n",
       "1  36                 0.0               7.0                3        1   \n",
       "2   3                23.0               7.0                4        1   \n",
       "3   7                 7.0               7.0                5        1   \n",
       "4  11                23.0               7.0                5        1   \n",
       "\n",
       "   Transportation expense  Distance from Residence to Work  Service time  \\\n",
       "0                   289.0                             36.0          13.0   \n",
       "1                   118.0                             13.0          18.0   \n",
       "2                   179.0                             51.0          18.0   \n",
       "3                   279.0                              5.0          14.0   \n",
       "4                   289.0                             36.0          13.0   \n",
       "\n",
       "    Age  Work load Average/day   ...  Disciplinary failure  Education  Son  \\\n",
       "0  33.0                239554.0  ...                   0.0        1.0  2.0   \n",
       "1  50.0                239554.0  ...                   1.0        1.0  1.0   \n",
       "2  38.0                239554.0  ...                   0.0        1.0  0.0   \n",
       "3  39.0                239554.0  ...                   0.0        1.0  2.0   \n",
       "4  33.0                239554.0  ...                   0.0        1.0  2.0   \n",
       "\n",
       "   Social drinker  Social smoker  Pet  Weight  Height  Body mass index  \\\n",
       "0             1.0            0.0  1.0    90.0   172.0             30.0   \n",
       "1             1.0            0.0  0.0    98.0   178.0             31.0   \n",
       "2             1.0            0.0  0.0    89.0   170.0             31.0   \n",
       "3             1.0            1.0  0.0    68.0   168.0             24.0   \n",
       "4             1.0            0.0  1.0    90.0   172.0             30.0   \n",
       "\n",
       "   Absenteeism time in hours  \n",
       "0                        4.0  \n",
       "1                        0.0  \n",
       "2                        2.0  \n",
       "3                        4.0  \n",
       "4                        2.0  \n",
       "\n",
       "[5 rows x 21 columns]"
      ]
     },
     "execution_count": 6,
     "metadata": {},
     "output_type": "execute_result"
    }
   ],
   "source": [
    "df.head()"
   ]
  },
  {
   "cell_type": "code",
   "execution_count": 7,
   "metadata": {},
   "outputs": [
    {
     "data": {
      "text/plain": [
       "(740, 21)"
      ]
     },
     "execution_count": 7,
     "metadata": {},
     "output_type": "execute_result"
    }
   ],
   "source": [
    "df.shape"
   ]
  },
  {
   "cell_type": "code",
   "execution_count": 8,
   "metadata": {},
   "outputs": [
    {
     "data": {
      "text/html": [
       "<div>\n",
       "<style scoped>\n",
       "    .dataframe tbody tr th:only-of-type {\n",
       "        vertical-align: middle;\n",
       "    }\n",
       "\n",
       "    .dataframe tbody tr th {\n",
       "        vertical-align: top;\n",
       "    }\n",
       "\n",
       "    .dataframe thead th {\n",
       "        text-align: right;\n",
       "    }\n",
       "</style>\n",
       "<table border=\"1\" class=\"dataframe\">\n",
       "  <thead>\n",
       "    <tr style=\"text-align: right;\">\n",
       "      <th></th>\n",
       "      <th>ID</th>\n",
       "      <th>Reason for absence</th>\n",
       "      <th>Month of absence</th>\n",
       "      <th>Day of the week</th>\n",
       "      <th>Seasons</th>\n",
       "      <th>Transportation expense</th>\n",
       "      <th>Distance from Residence to Work</th>\n",
       "      <th>Service time</th>\n",
       "      <th>Age</th>\n",
       "      <th>Work load Average/day</th>\n",
       "      <th>...</th>\n",
       "      <th>Disciplinary failure</th>\n",
       "      <th>Education</th>\n",
       "      <th>Son</th>\n",
       "      <th>Social drinker</th>\n",
       "      <th>Social smoker</th>\n",
       "      <th>Pet</th>\n",
       "      <th>Weight</th>\n",
       "      <th>Height</th>\n",
       "      <th>Body mass index</th>\n",
       "      <th>Absenteeism time in hours</th>\n",
       "    </tr>\n",
       "  </thead>\n",
       "  <tbody>\n",
       "    <tr>\n",
       "      <th>count</th>\n",
       "      <td>740.000000</td>\n",
       "      <td>737.000000</td>\n",
       "      <td>739.000000</td>\n",
       "      <td>740.000000</td>\n",
       "      <td>740.000000</td>\n",
       "      <td>733.000000</td>\n",
       "      <td>737.000000</td>\n",
       "      <td>737.000000</td>\n",
       "      <td>737.000000</td>\n",
       "      <td>730.000000</td>\n",
       "      <td>...</td>\n",
       "      <td>734.000000</td>\n",
       "      <td>730.000000</td>\n",
       "      <td>734.000000</td>\n",
       "      <td>737.000000</td>\n",
       "      <td>736.000000</td>\n",
       "      <td>738.000000</td>\n",
       "      <td>739.000000</td>\n",
       "      <td>726.000000</td>\n",
       "      <td>709.000000</td>\n",
       "      <td>718.000000</td>\n",
       "    </tr>\n",
       "    <tr>\n",
       "      <th>mean</th>\n",
       "      <td>18.017568</td>\n",
       "      <td>19.188602</td>\n",
       "      <td>6.319350</td>\n",
       "      <td>3.914865</td>\n",
       "      <td>2.544595</td>\n",
       "      <td>221.035471</td>\n",
       "      <td>29.667571</td>\n",
       "      <td>12.565807</td>\n",
       "      <td>36.449118</td>\n",
       "      <td>271188.860274</td>\n",
       "      <td>...</td>\n",
       "      <td>0.053134</td>\n",
       "      <td>1.295890</td>\n",
       "      <td>1.017711</td>\n",
       "      <td>0.567164</td>\n",
       "      <td>0.073370</td>\n",
       "      <td>0.746612</td>\n",
       "      <td>79.063599</td>\n",
       "      <td>172.152893</td>\n",
       "      <td>26.684062</td>\n",
       "      <td>6.977716</td>\n",
       "    </tr>\n",
       "    <tr>\n",
       "      <th>std</th>\n",
       "      <td>11.021247</td>\n",
       "      <td>8.437493</td>\n",
       "      <td>3.435948</td>\n",
       "      <td>1.421675</td>\n",
       "      <td>1.111831</td>\n",
       "      <td>66.954179</td>\n",
       "      <td>14.848124</td>\n",
       "      <td>4.389813</td>\n",
       "      <td>6.480148</td>\n",
       "      <td>38981.880873</td>\n",
       "      <td>...</td>\n",
       "      <td>0.224453</td>\n",
       "      <td>0.676965</td>\n",
       "      <td>1.094928</td>\n",
       "      <td>0.495805</td>\n",
       "      <td>0.260919</td>\n",
       "      <td>1.319726</td>\n",
       "      <td>12.868630</td>\n",
       "      <td>6.081065</td>\n",
       "      <td>4.292819</td>\n",
       "      <td>13.476962</td>\n",
       "    </tr>\n",
       "    <tr>\n",
       "      <th>min</th>\n",
       "      <td>1.000000</td>\n",
       "      <td>0.000000</td>\n",
       "      <td>0.000000</td>\n",
       "      <td>2.000000</td>\n",
       "      <td>1.000000</td>\n",
       "      <td>118.000000</td>\n",
       "      <td>5.000000</td>\n",
       "      <td>1.000000</td>\n",
       "      <td>27.000000</td>\n",
       "      <td>205917.000000</td>\n",
       "      <td>...</td>\n",
       "      <td>0.000000</td>\n",
       "      <td>1.000000</td>\n",
       "      <td>0.000000</td>\n",
       "      <td>0.000000</td>\n",
       "      <td>0.000000</td>\n",
       "      <td>0.000000</td>\n",
       "      <td>56.000000</td>\n",
       "      <td>163.000000</td>\n",
       "      <td>19.000000</td>\n",
       "      <td>0.000000</td>\n",
       "    </tr>\n",
       "    <tr>\n",
       "      <th>25%</th>\n",
       "      <td>9.000000</td>\n",
       "      <td>13.000000</td>\n",
       "      <td>3.000000</td>\n",
       "      <td>3.000000</td>\n",
       "      <td>2.000000</td>\n",
       "      <td>179.000000</td>\n",
       "      <td>16.000000</td>\n",
       "      <td>9.000000</td>\n",
       "      <td>31.000000</td>\n",
       "      <td>244387.000000</td>\n",
       "      <td>...</td>\n",
       "      <td>0.000000</td>\n",
       "      <td>1.000000</td>\n",
       "      <td>0.000000</td>\n",
       "      <td>0.000000</td>\n",
       "      <td>0.000000</td>\n",
       "      <td>0.000000</td>\n",
       "      <td>69.000000</td>\n",
       "      <td>169.000000</td>\n",
       "      <td>24.000000</td>\n",
       "      <td>2.000000</td>\n",
       "    </tr>\n",
       "    <tr>\n",
       "      <th>50%</th>\n",
       "      <td>18.000000</td>\n",
       "      <td>23.000000</td>\n",
       "      <td>6.000000</td>\n",
       "      <td>4.000000</td>\n",
       "      <td>3.000000</td>\n",
       "      <td>225.000000</td>\n",
       "      <td>26.000000</td>\n",
       "      <td>13.000000</td>\n",
       "      <td>37.000000</td>\n",
       "      <td>264249.000000</td>\n",
       "      <td>...</td>\n",
       "      <td>0.000000</td>\n",
       "      <td>1.000000</td>\n",
       "      <td>1.000000</td>\n",
       "      <td>1.000000</td>\n",
       "      <td>0.000000</td>\n",
       "      <td>0.000000</td>\n",
       "      <td>83.000000</td>\n",
       "      <td>170.000000</td>\n",
       "      <td>25.000000</td>\n",
       "      <td>3.000000</td>\n",
       "    </tr>\n",
       "    <tr>\n",
       "      <th>75%</th>\n",
       "      <td>28.000000</td>\n",
       "      <td>26.000000</td>\n",
       "      <td>9.000000</td>\n",
       "      <td>5.000000</td>\n",
       "      <td>4.000000</td>\n",
       "      <td>260.000000</td>\n",
       "      <td>50.000000</td>\n",
       "      <td>16.000000</td>\n",
       "      <td>40.000000</td>\n",
       "      <td>284853.000000</td>\n",
       "      <td>...</td>\n",
       "      <td>0.000000</td>\n",
       "      <td>1.000000</td>\n",
       "      <td>2.000000</td>\n",
       "      <td>1.000000</td>\n",
       "      <td>0.000000</td>\n",
       "      <td>1.000000</td>\n",
       "      <td>89.000000</td>\n",
       "      <td>172.000000</td>\n",
       "      <td>31.000000</td>\n",
       "      <td>8.000000</td>\n",
       "    </tr>\n",
       "    <tr>\n",
       "      <th>max</th>\n",
       "      <td>36.000000</td>\n",
       "      <td>28.000000</td>\n",
       "      <td>12.000000</td>\n",
       "      <td>6.000000</td>\n",
       "      <td>4.000000</td>\n",
       "      <td>388.000000</td>\n",
       "      <td>52.000000</td>\n",
       "      <td>29.000000</td>\n",
       "      <td>58.000000</td>\n",
       "      <td>378884.000000</td>\n",
       "      <td>...</td>\n",
       "      <td>1.000000</td>\n",
       "      <td>4.000000</td>\n",
       "      <td>4.000000</td>\n",
       "      <td>1.000000</td>\n",
       "      <td>1.000000</td>\n",
       "      <td>8.000000</td>\n",
       "      <td>108.000000</td>\n",
       "      <td>196.000000</td>\n",
       "      <td>38.000000</td>\n",
       "      <td>120.000000</td>\n",
       "    </tr>\n",
       "  </tbody>\n",
       "</table>\n",
       "<p>8 rows × 21 columns</p>\n",
       "</div>"
      ],
      "text/plain": [
       "               ID  Reason for absence  Month of absence  Day of the week  \\\n",
       "count  740.000000          737.000000        739.000000       740.000000   \n",
       "mean    18.017568           19.188602          6.319350         3.914865   \n",
       "std     11.021247            8.437493          3.435948         1.421675   \n",
       "min      1.000000            0.000000          0.000000         2.000000   \n",
       "25%      9.000000           13.000000          3.000000         3.000000   \n",
       "50%     18.000000           23.000000          6.000000         4.000000   \n",
       "75%     28.000000           26.000000          9.000000         5.000000   \n",
       "max     36.000000           28.000000         12.000000         6.000000   \n",
       "\n",
       "          Seasons  Transportation expense  Distance from Residence to Work  \\\n",
       "count  740.000000              733.000000                       737.000000   \n",
       "mean     2.544595              221.035471                        29.667571   \n",
       "std      1.111831               66.954179                        14.848124   \n",
       "min      1.000000              118.000000                         5.000000   \n",
       "25%      2.000000              179.000000                        16.000000   \n",
       "50%      3.000000              225.000000                        26.000000   \n",
       "75%      4.000000              260.000000                        50.000000   \n",
       "max      4.000000              388.000000                        52.000000   \n",
       "\n",
       "       Service time         Age  Work load Average/day   ...  \\\n",
       "count    737.000000  737.000000              730.000000  ...   \n",
       "mean      12.565807   36.449118           271188.860274  ...   \n",
       "std        4.389813    6.480148            38981.880873  ...   \n",
       "min        1.000000   27.000000           205917.000000  ...   \n",
       "25%        9.000000   31.000000           244387.000000  ...   \n",
       "50%       13.000000   37.000000           264249.000000  ...   \n",
       "75%       16.000000   40.000000           284853.000000  ...   \n",
       "max       29.000000   58.000000           378884.000000  ...   \n",
       "\n",
       "       Disciplinary failure   Education         Son  Social drinker  \\\n",
       "count            734.000000  730.000000  734.000000      737.000000   \n",
       "mean               0.053134    1.295890    1.017711        0.567164   \n",
       "std                0.224453    0.676965    1.094928        0.495805   \n",
       "min                0.000000    1.000000    0.000000        0.000000   \n",
       "25%                0.000000    1.000000    0.000000        0.000000   \n",
       "50%                0.000000    1.000000    1.000000        1.000000   \n",
       "75%                0.000000    1.000000    2.000000        1.000000   \n",
       "max                1.000000    4.000000    4.000000        1.000000   \n",
       "\n",
       "       Social smoker         Pet      Weight      Height  Body mass index  \\\n",
       "count     736.000000  738.000000  739.000000  726.000000       709.000000   \n",
       "mean        0.073370    0.746612   79.063599  172.152893        26.684062   \n",
       "std         0.260919    1.319726   12.868630    6.081065         4.292819   \n",
       "min         0.000000    0.000000   56.000000  163.000000        19.000000   \n",
       "25%         0.000000    0.000000   69.000000  169.000000        24.000000   \n",
       "50%         0.000000    0.000000   83.000000  170.000000        25.000000   \n",
       "75%         0.000000    1.000000   89.000000  172.000000        31.000000   \n",
       "max         1.000000    8.000000  108.000000  196.000000        38.000000   \n",
       "\n",
       "       Absenteeism time in hours  \n",
       "count                 718.000000  \n",
       "mean                    6.977716  \n",
       "std                    13.476962  \n",
       "min                     0.000000  \n",
       "25%                     2.000000  \n",
       "50%                     3.000000  \n",
       "75%                     8.000000  \n",
       "max                   120.000000  \n",
       "\n",
       "[8 rows x 21 columns]"
      ]
     },
     "execution_count": 8,
     "metadata": {},
     "output_type": "execute_result"
    }
   ],
   "source": [
    "df.describe()"
   ]
  },
  {
   "cell_type": "code",
   "execution_count": 9,
   "metadata": {},
   "outputs": [
    {
     "name": "stdout",
     "output_type": "stream",
     "text": [
      "<class 'pandas.core.frame.DataFrame'>\n",
      "RangeIndex: 740 entries, 0 to 739\n",
      "Data columns (total 21 columns):\n",
      "ID                                 740 non-null int64\n",
      "Reason for absence                 737 non-null float64\n",
      "Month of absence                   739 non-null float64\n",
      "Day of the week                    740 non-null int64\n",
      "Seasons                            740 non-null int64\n",
      "Transportation expense             733 non-null float64\n",
      "Distance from Residence to Work    737 non-null float64\n",
      "Service time                       737 non-null float64\n",
      "Age                                737 non-null float64\n",
      "Work load Average/day              730 non-null float64\n",
      "Hit target                         734 non-null float64\n",
      "Disciplinary failure               734 non-null float64\n",
      "Education                          730 non-null float64\n",
      "Son                                734 non-null float64\n",
      "Social drinker                     737 non-null float64\n",
      "Social smoker                      736 non-null float64\n",
      "Pet                                738 non-null float64\n",
      "Weight                             739 non-null float64\n",
      "Height                             726 non-null float64\n",
      "Body mass index                    709 non-null float64\n",
      "Absenteeism time in hours          718 non-null float64\n",
      "dtypes: float64(18), int64(3)\n",
      "memory usage: 121.5 KB\n"
     ]
    }
   ],
   "source": [
    "df.info()"
   ]
  },
  {
   "cell_type": "code",
   "execution_count": 10,
   "metadata": {},
   "outputs": [],
   "source": [
    "df.columns = df.columns.str.strip().str.lower().str.replace(' ', '_').str.replace('(', '').str.replace(')', '')"
   ]
  },
  {
   "cell_type": "code",
   "execution_count": 11,
   "metadata": {},
   "outputs": [],
   "source": [
    "categorical_vars = ['id','reason_for_absence','month_of_absence','day_of_the_week',\n",
    "                     'seasons','disciplinary_failure', 'education', 'son','social_drinker',\n",
    "                     'social_smoker', 'pet']"
   ]
  },
  {
   "cell_type": "code",
   "execution_count": 12,
   "metadata": {},
   "outputs": [],
   "source": [
    "continuous_var = ['transportation_expense','distance_from_residence_to_work', 'service_time', 'age',\\\n",
    "                  'work_load_average_per_day', 'hit_target','weight', 'height', 'body_mass_index',\\\n",
    "                  'absenteeism_time_in_hours']"
   ]
  },
  {
   "cell_type": "code",
   "execution_count": 13,
   "metadata": {},
   "outputs": [
    {
     "name": "stdout",
     "output_type": "stream",
     "text": [
      "<class 'pandas.core.frame.DataFrame'>\n",
      "RangeIndex: 740 entries, 0 to 739\n",
      "Data columns (total 21 columns):\n",
      "id                                 740 non-null int64\n",
      "reason_for_absence                 737 non-null float64\n",
      "month_of_absence                   739 non-null float64\n",
      "day_of_the_week                    740 non-null int64\n",
      "seasons                            740 non-null int64\n",
      "transportation_expense             733 non-null float64\n",
      "distance_from_residence_to_work    737 non-null float64\n",
      "service_time                       737 non-null float64\n",
      "age                                737 non-null float64\n",
      "work_load_average/day              730 non-null float64\n",
      "hit_target                         734 non-null float64\n",
      "disciplinary_failure               734 non-null float64\n",
      "education                          730 non-null float64\n",
      "son                                734 non-null float64\n",
      "social_drinker                     737 non-null float64\n",
      "social_smoker                      736 non-null float64\n",
      "pet                                738 non-null float64\n",
      "weight                             739 non-null float64\n",
      "height                             726 non-null float64\n",
      "body_mass_index                    709 non-null float64\n",
      "absenteeism_time_in_hours          718 non-null float64\n",
      "dtypes: float64(18), int64(3)\n",
      "memory usage: 121.5 KB\n"
     ]
    }
   ],
   "source": [
    "df.info()"
   ]
  },
  {
   "cell_type": "markdown",
   "metadata": {},
   "source": [
    "# Density Plot and Histogram of predictors (randon continuous variables)"
   ]
  },
  {
   "cell_type": "code",
   "execution_count": 14,
   "metadata": {},
   "outputs": [
    {
     "data": {
      "text/plain": [
       "[Text(0, 0.5, 'Density'), Text(0.5, 0, 'Age')]"
      ]
     },
     "execution_count": 14,
     "metadata": {},
     "output_type": "execute_result"
    },
    {
     "data": {
      "image/png": "[encoded data removed]",
      "text/plain": [
       "<Figure size 432x288 with 1 Axes>"
      ]
     },
     "metadata": {
      "needs_background": "light"
     },
     "output_type": "display_data"
    }
   ],
   "source": [
    "# Density Plot and Histogram of predictors (randon continuous variables)\n",
    "ax=sns.distplot(df['age'], hist=True, kde=True, \n",
    "             bins=int(100/5), color = 'darkblue', \n",
    "             hist_kws={'edgecolor':'black'},\n",
    "             kde_kws={'linewidth': 4})\n",
    "ax.set(xlabel='Age', ylabel='Density')"
   ]
  },
  {
   "cell_type": "code",
   "execution_count": 15,
   "metadata": {},
   "outputs": [
    {
     "data": {
      "text/plain": [
       "[Text(0, 0.5, 'Density'), Text(0.5, 0, 'Weight')]"
      ]
     },
     "execution_count": 15,
     "metadata": {},
     "output_type": "execute_result"
    },
    {
     "data": {
      "image/png": "[encoded data removed]",
      "text/plain": [
       "<Figure size 432x288 with 1 Axes>"
      ]
     },
     "metadata": {
      "needs_background": "light"
     },
     "output_type": "display_data"
    }
   ],
   "source": [
    "# Density Plot and Histogram of predictors (randon continuous variables)\n",
    "ax=sns.distplot(df['weight'], hist=True, kde=True, \n",
    "             bins=int(100/5), color = 'darkblue', \n",
    "             hist_kws={'edgecolor':'black'},\n",
    "             kde_kws={'linewidth': 4})\n",
    "ax.set(xlabel='Weight', ylabel='Density')"
   ]
  },
  {
   "cell_type": "code",
   "execution_count": 16,
   "metadata": {},
   "outputs": [
    {
     "data": {
      "text/plain": [
       "[Text(0, 0.5, 'Density'), Text(0.5, 0, 'Absenteeism time in hours')]"
      ]
     },
     "execution_count": 16,
     "metadata": {},
     "output_type": "execute_result"
    },
    {
     "data": {
      "image/png": "[encoded data removed]",
      "text/plain": [
       "<Figure size 432x288 with 1 Axes>"
      ]
     },
     "metadata": {
      "needs_background": "light"
     },
     "output_type": "display_data"
    }
   ],
   "source": [
    "# Density Plot and Histogram of predictors (randon continuous variables)\n",
    "ax=sns.distplot(df['absenteeism_time_in_hours'], hist=True, kde=True, \n",
    "             bins=int(100/5), color = 'darkblue', \n",
    "             hist_kws={'edgecolor':'black'},\n",
    "             kde_kws={'linewidth': 4})\n",
    "ax.set(xlabel='Absenteeism time in hours', ylabel='Density')"
   ]
  },
  {
   "cell_type": "code",
   "execution_count": 17,
   "metadata": {},
   "outputs": [],
   "source": [
    "df.columns=df.columns.str.replace('/','Per')"
   ]
  },
  {
   "cell_type": "code",
   "execution_count": 18,
   "metadata": {},
   "outputs": [
    {
     "data": {
      "text/plain": [
       "Index(['id', 'reason_for_absence', 'month_of_absence', 'day_of_the_week',\n",
       "       'seasons', 'transportation_expense', 'distance_from_residence_to_work',\n",
       "       'service_time', 'age', 'work_load_averagePerday', 'hit_target',\n",
       "       'disciplinary_failure', 'education', 'son', 'social_drinker',\n",
       "       'social_smoker', 'pet', 'weight', 'height', 'body_mass_index',\n",
       "       'absenteeism_time_in_hours'],\n",
       "      dtype='object')"
      ]
     },
     "execution_count": 18,
     "metadata": {},
     "output_type": "execute_result"
    }
   ],
   "source": [
    "df.columns"
   ]
  },
  {
   "cell_type": "code",
   "execution_count": 19,
   "metadata": {},
   "outputs": [],
   "source": [
    "df = df.rename(columns={\"work_load_averagePerday\": \"work_load_average_per_day\"})"
   ]
  },
  {
   "cell_type": "code",
   "execution_count": 20,
   "metadata": {},
   "outputs": [
    {
     "data": {
      "text/plain": [
       "Index(['id', 'reason_for_absence', 'month_of_absence', 'day_of_the_week',\n",
       "       'seasons', 'transportation_expense', 'distance_from_residence_to_work',\n",
       "       'service_time', 'age', 'work_load_average_per_day', 'hit_target',\n",
       "       'disciplinary_failure', 'education', 'son', 'social_drinker',\n",
       "       'social_smoker', 'pet', 'weight', 'height', 'body_mass_index',\n",
       "       'absenteeism_time_in_hours'],\n",
       "      dtype='object')"
      ]
     },
     "execution_count": 20,
     "metadata": {},
     "output_type": "execute_result"
    }
   ],
   "source": [
    "df.columns"
   ]
  },
  {
   "cell_type": "code",
   "execution_count": 21,
   "metadata": {},
   "outputs": [
    {
     "data": {
      "text/plain": [
       "[Text(0, 0.5, 'Density'), Text(0.5, 0, 'Work load Average/day')]"
      ]
     },
     "execution_count": 21,
     "metadata": {},
     "output_type": "execute_result"
    },
    {
     "data": {
      "image/png": "[encoded data removed]",
      "text/plain": [
       "<Figure size 432x288 with 1 Axes>"
      ]
     },
     "metadata": {
      "needs_background": "light"
     },
     "output_type": "display_data"
    }
   ],
   "source": [
    "# Density Plot and Histogram of predictors (randon continuous variables)\n",
    "ax=sns.distplot(df['work_load_average_per_day'], hist=True, kde=True, \n",
    "             bins=int(100/5), color = 'darkblue', \n",
    "             hist_kws={'edgecolor':'black'},\n",
    "             kde_kws={'linewidth': 4})\n",
    "ax.set(xlabel='Work load Average/day', ylabel='Density')"
   ]
  },
  {
   "cell_type": "code",
   "execution_count": 22,
   "metadata": {},
   "outputs": [
    {
     "data": {
      "text/plain": [
       "[Text(0, 0.5, 'Density'), Text(0.5, 0, 'Distance from Residence to Work')]"
      ]
     },
     "execution_count": 22,
     "metadata": {},
     "output_type": "execute_result"
    },
    {
     "data": {
      "image/png": "[encoded data removed]",
      "text/plain": [
       "<Figure size 432x288 with 1 Axes>"
      ]
     },
     "metadata": {
      "needs_background": "light"
     },
     "output_type": "display_data"
    }
   ],
   "source": [
    "# Density Plot and Histogram of predictors (randon continuous variables)\n",
    "ax=sns.distplot(df['distance_from_residence_to_work'], hist=True, kde=True, \n",
    "             bins=int(100/5), color = 'darkblue', \n",
    "             hist_kws={'edgecolor':'black'},\n",
    "             kde_kws={'linewidth': 4})\n",
    "ax.set(xlabel='Distance from Residence to Work', ylabel='Density')"
   ]
  },
  {
   "cell_type": "code",
   "execution_count": 23,
   "metadata": {},
   "outputs": [
    {
     "data": {
      "text/plain": [
       "[Text(0, 0.5, 'Density'), Text(0.5, 0, 'body_mass_index')]"
      ]
     },
     "execution_count": 23,
     "metadata": {},
     "output_type": "execute_result"
    },
    {
     "data": {
      "image/png": "[encoded data removed]",
      "text/plain": [
       "<Figure size 432x288 with 1 Axes>"
      ]
     },
     "metadata": {
      "needs_background": "light"
     },
     "output_type": "display_data"
    }
   ],
   "source": [
    "# Density Plot and Histogram of predictors (randon continuous variables)\n",
    "ax=sns.distplot(df['body_mass_index'], hist=True, kde=True, \n",
    "             bins=int(100/5), color = 'darkblue', \n",
    "             hist_kws={'edgecolor':'black'},\n",
    "             kde_kws={'linewidth': 4})\n",
    "ax.set(xlabel='body_mass_index', ylabel='Density')"
   ]
  },
  {
   "cell_type": "code",
   "execution_count": 24,
   "metadata": {},
   "outputs": [
    {
     "data": {
      "text/plain": [
       "[Text(0, 0.5, 'Density'), Text(0.5, 0, 'Height')]"
      ]
     },
     "execution_count": 24,
     "metadata": {},
     "output_type": "execute_result"
    },
    {
     "data": {
      "image/png": "[encoded data removed]",
      "text/plain": [
       "<Figure size 432x288 with 1 Axes>"
      ]
     },
     "metadata": {
      "needs_background": "light"
     },
     "output_type": "display_data"
    }
   ],
   "source": [
    "# Density Plot and Histogram of predictors (randon continuous variables)\n",
    "ax=sns.distplot(df['height'], hist=True, kde=True, \n",
    "             bins=int(100/5), color = 'darkblue', \n",
    "             hist_kws={'edgecolor':'black'},\n",
    "             kde_kws={'linewidth': 4})\n",
    "ax.set(xlabel='Height', ylabel='Density')"
   ]
  },
  {
   "cell_type": "code",
   "execution_count": 25,
   "metadata": {},
   "outputs": [
    {
     "data": {
      "text/plain": [
       "[Text(0, 0.5, 'Density'), Text(0.5, 0, 'Service time')]"
      ]
     },
     "execution_count": 25,
     "metadata": {},
     "output_type": "execute_result"
    },
    {
     "data": {
      "image/png": "[encoded data removed]",
      "text/plain": [
       "<Figure size 432x288 with 1 Axes>"
      ]
     },
     "metadata": {
      "needs_background": "light"
     },
     "output_type": "display_data"
    }
   ],
   "source": [
    "# Density Plot and Histogram of predictors (randon continuous variables)\n",
    "ax=sns.distplot(df['service_time'], hist=True, kde=True, \n",
    "             bins=int(100/5), color = 'darkblue', \n",
    "             hist_kws={'edgecolor':'black'},\n",
    "             kde_kws={'linewidth': 4})\n",
    "ax.set(xlabel='Service time', ylabel='Density')"
   ]
  },
  {
   "cell_type": "code",
   "execution_count": 26,
   "metadata": {},
   "outputs": [
    {
     "data": {
      "text/plain": [
       "[Text(0, 0.5, 'Density'), Text(0.5, 0, 'Trnsportation expense')]"
      ]
     },
     "execution_count": 26,
     "metadata": {},
     "output_type": "execute_result"
    },
    {
     "data": {
      "image/png": "[encoded data removed]",
      "text/plain": [
       "<Figure size 432x288 with 1 Axes>"
      ]
     },
     "metadata": {
      "needs_background": "light"
     },
     "output_type": "display_data"
    }
   ],
   "source": [
    "# Density Plot and Histogram of predictors (randon continuous variables)\n",
    "ax=sns.distplot(df['transportation_expense'], hist=True, kde=True, \n",
    "             bins=int(100/5), color = 'darkblue', \n",
    "             hist_kws={'edgecolor':'black'},\n",
    "             kde_kws={'linewidth': 4})\n",
    "ax.set(xlabel='Trnsportation expense', ylabel='Density')"
   ]
  },
  {
   "cell_type": "markdown",
   "metadata": {},
   "source": [
    "# EDA Bivariate Analysis"
   ]
  },
  {
   "cell_type": "code",
   "execution_count": 27,
   "metadata": {},
   "outputs": [
    {
     "data": {
      "image/png": "[encoded data removed]",
      "text/plain": [
       "<Figure size 432x288 with 1 Axes>"
      ]
     },
     "metadata": {
      "needs_background": "light"
     },
     "output_type": "display_data"
    }
   ],
   "source": [
    "ax = sns.boxplot(x=df['day_of_the_week'], y=df['absenteeism_time_in_hours'], data=df)"
   ]
  },
  {
   "cell_type": "code",
   "execution_count": 28,
   "metadata": {},
   "outputs": [
    {
     "data": {
      "image/png": "[encoded data removed]",
      "text/plain": [
       "<Figure size 432x288 with 1 Axes>"
      ]
     },
     "metadata": {
      "needs_background": "light"
     },
     "output_type": "display_data"
    }
   ],
   "source": [
    "ax = sns.boxplot(x=df['seasons'], y=df['absenteeism_time_in_hours'], data=df)"
   ]
  },
  {
   "cell_type": "code",
   "execution_count": 29,
   "metadata": {},
   "outputs": [
    {
     "data": {
      "image/png": "[encoded data removed]",
      "text/plain": [
       "<Figure size 432x288 with 1 Axes>"
      ]
     },
     "metadata": {
      "needs_background": "light"
     },
     "output_type": "display_data"
    }
   ],
   "source": [
    "ax = sns.boxplot(x=df['disciplinary_failure'], y=df['absenteeism_time_in_hours'], data=df)"
   ]
  },
  {
   "cell_type": "code",
   "execution_count": 30,
   "metadata": {},
   "outputs": [
    {
     "data": {
      "image/png": "[encoded data removed]",
      "text/plain": [
       "<Figure size 432x288 with 1 Axes>"
      ]
     },
     "metadata": {
      "needs_background": "light"
     },
     "output_type": "display_data"
    }
   ],
   "source": [
    "ax = sns.boxplot(x=df['education'], y=df['absenteeism_time_in_hours'], data=df)"
   ]
  },
  {
   "cell_type": "code",
   "execution_count": 31,
   "metadata": {},
   "outputs": [
    {
     "data": {
      "image/png": "[encoded data removed]",
      "text/plain": [
       "<Figure size 432x288 with 1 Axes>"
      ]
     },
     "metadata": {
      "needs_background": "light"
     },
     "output_type": "display_data"
    }
   ],
   "source": [
    "ax = sns.boxplot(x=df['son'], y=df['absenteeism_time_in_hours'], data=df)"
   ]
  },
  {
   "cell_type": "code",
   "execution_count": 32,
   "metadata": {},
   "outputs": [
    {
     "data": {
      "image/png": "[encoded data removed]",
      "text/plain": [
       "<Figure size 432x288 with 1 Axes>"
      ]
     },
     "metadata": {
      "needs_background": "light"
     },
     "output_type": "display_data"
    }
   ],
   "source": [
    "ax = sns.boxplot(x=df['social_drinker'], y=df['absenteeism_time_in_hours'], data=df)"
   ]
  },
  {
   "cell_type": "code",
   "execution_count": 33,
   "metadata": {},
   "outputs": [
    {
     "data": {
      "image/png": "[encoded data removed]",
      "text/plain": [
       "<Figure size 432x288 with 1 Axes>"
      ]
     },
     "metadata": {
      "needs_background": "light"
     },
     "output_type": "display_data"
    }
   ],
   "source": [
    "ax = sns.boxplot(x=df['social_smoker'], y=df['absenteeism_time_in_hours'], data=df)"
   ]
  },
  {
   "cell_type": "code",
   "execution_count": 34,
   "metadata": {},
   "outputs": [
    {
     "data": {
      "image/png": "[encoded data removed]",
      "text/plain": [
       "<Figure size 432x288 with 1 Axes>"
      ]
     },
     "metadata": {
      "needs_background": "light"
     },
     "output_type": "display_data"
    }
   ],
   "source": [
    "ax = sns.boxplot(x=df['pet'], y=df['absenteeism_time_in_hours'], data=df)"
   ]
  },
  {
   "cell_type": "markdown",
   "metadata": {},
   "source": [
    "# Missing value Analysis"
   ]
  },
  {
   "cell_type": "code",
   "execution_count": 35,
   "metadata": {},
   "outputs": [
    {
     "data": {
      "text/plain": [
       "Text(0.5, 1.0, 'Percent missing data by feature')"
      ]
     },
     "execution_count": 35,
     "metadata": {},
     "output_type": "execute_result"
    },
    {
     "data": {
      "image/png": "[encoded data removed]",
      "text/plain": [
       "<Figure size 720x576 with 1 Axes>"
      ]
     },
     "metadata": {
      "needs_background": "light"
     },
     "output_type": "display_data"
    }
   ],
   "source": [
    "#Create dataframe with missing percentage\n",
    "total_missing = df.isnull().sum().sort_values(ascending=False)\n",
    "percent_missing = ((df.isnull().sum()/df.isnull().count())* 100).sort_values(ascending=False)\n",
    "missing_data = pd.concat([total_missing, percent_missing], axis=1, keys=['Total', 'Percent'])\n",
    "f, ax = plt.subplots(figsize=(10, 8))\n",
    "sns.barplot(x=missing_data.index, y=missing_data['Percent'])\n",
    "plt.xlabel('Features', fontsize=15)\n",
    "plt.ylabel('Percent of missing values', fontsize=15)\n",
    "plt.title('Percent missing data by feature', fontsize=15)"
   ]
  },
  {
   "cell_type": "code",
   "execution_count": 36,
   "metadata": {},
   "outputs": [
    {
     "data": {
      "text/plain": [
       "body_mass_index                    31\n",
       "absenteeism_time_in_hours          22\n",
       "height                             14\n",
       "education                          10\n",
       "work_load_average_per_day          10\n",
       "transportation_expense              7\n",
       "disciplinary_failure                6\n",
       "hit_target                          6\n",
       "son                                 6\n",
       "social_smoker                       4\n",
       "social_drinker                      3\n",
       "age                                 3\n",
       "service_time                        3\n",
       "distance_from_residence_to_work     3\n",
       "reason_for_absence                  3\n",
       "pet                                 2\n",
       "weight                              1\n",
       "month_of_absence                    1\n",
       "seasons                             0\n",
       "day_of_the_week                     0\n",
       "id                                  0\n",
       "dtype: int64"
      ]
     },
     "execution_count": 36,
     "metadata": {},
     "output_type": "execute_result"
    }
   ],
   "source": [
    "df.isnull().sum().sort_values(ascending=False)"
   ]
  },
  {
   "cell_type": "code",
   "execution_count": 37,
   "metadata": {},
   "outputs": [],
   "source": [
    "# Droping observation in which target \"Absenteeism time in hours\" has missing value\n",
    "#df = df[~df['Absenteeism time in hours'].isnull()]\n",
    "df = df.dropna(subset=['absenteeism_time_in_hours'])"
   ]
  },
  {
   "cell_type": "code",
   "execution_count": 38,
   "metadata": {},
   "outputs": [
    {
     "data": {
      "text/plain": [
       "(718, 21)"
      ]
     },
     "execution_count": 38,
     "metadata": {},
     "output_type": "execute_result"
    }
   ],
   "source": [
    "df.shape"
   ]
  },
  {
   "cell_type": "code",
   "execution_count": 39,
   "metadata": {},
   "outputs": [
    {
     "data": {
      "text/plain": [
       "33.0"
      ]
     },
     "execution_count": 39,
     "metadata": {},
     "output_type": "execute_result"
    }
   ],
   "source": [
    "df['body_mass_index'].iloc[30]\n",
    "# 33.0 actual value\n",
    "# 26.697674418604652  mean value\n",
    "# 25 Median\n",
    "# 27.17548948938773 kNN"
   ]
  },
  {
   "cell_type": "code",
   "execution_count": 40,
   "metadata": {},
   "outputs": [],
   "source": [
    "df['body_mass_index'].iloc[30]=np.nan"
   ]
  },
  {
   "cell_type": "code",
   "execution_count": 41,
   "metadata": {},
   "outputs": [
    {
     "data": {
      "text/plain": [
       "nan"
      ]
     },
     "execution_count": 41,
     "metadata": {},
     "output_type": "execute_result"
    }
   ],
   "source": [
    "df['body_mass_index'].iloc[30]"
   ]
  },
  {
   "cell_type": "code",
   "execution_count": 42,
   "metadata": {},
   "outputs": [],
   "source": [
    "df['body_mass_index'] = df['body_mass_index'].fillna(df['body_mass_index'].mean())"
   ]
  },
  {
   "cell_type": "code",
   "execution_count": 43,
   "metadata": {},
   "outputs": [
    {
     "data": {
      "text/plain": [
       "26.697674418604652"
      ]
     },
     "execution_count": 43,
     "metadata": {},
     "output_type": "execute_result"
    }
   ],
   "source": [
    "df['body_mass_index'].iloc[30]"
   ]
  },
  {
   "cell_type": "code",
   "execution_count": 44,
   "metadata": {},
   "outputs": [],
   "source": [
    "df['body_mass_index'].iloc[30]=np.nan"
   ]
  },
  {
   "cell_type": "code",
   "execution_count": 45,
   "metadata": {},
   "outputs": [
    {
     "data": {
      "text/plain": [
       "nan"
      ]
     },
     "execution_count": 45,
     "metadata": {},
     "output_type": "execute_result"
    }
   ],
   "source": [
    "df['body_mass_index'].iloc[30]"
   ]
  },
  {
   "cell_type": "code",
   "execution_count": 46,
   "metadata": {},
   "outputs": [],
   "source": [
    "df['body_mass_index'] = df['body_mass_index'].fillna(df['body_mass_index'].median())"
   ]
  },
  {
   "cell_type": "code",
   "execution_count": 47,
   "metadata": {},
   "outputs": [
    {
     "data": {
      "text/plain": [
       "25.0"
      ]
     },
     "execution_count": 47,
     "metadata": {},
     "output_type": "execute_result"
    }
   ],
   "source": [
    "df['body_mass_index'].iloc[30]"
   ]
  },
  {
   "cell_type": "code",
   "execution_count": 48,
   "metadata": {},
   "outputs": [],
   "source": [
    "df['body_mass_index'].iloc[30]=np.nan"
   ]
  },
  {
   "cell_type": "code",
   "execution_count": 49,
   "metadata": {},
   "outputs": [
    {
     "data": {
      "text/plain": [
       "nan"
      ]
     },
     "execution_count": 49,
     "metadata": {},
     "output_type": "execute_result"
    }
   ],
   "source": [
    "df['body_mass_index'].iloc[30]"
   ]
  },
  {
   "cell_type": "code",
   "execution_count": 50,
   "metadata": {},
   "outputs": [
    {
     "name": "stdout",
     "output_type": "stream",
     "text": [
      "Imputing row 1/718 with 0 missing, elapsed time: 0.159\n",
      "Imputing row 101/718 with 0 missing, elapsed time: 0.161\n",
      "Imputing row 201/718 with 0 missing, elapsed time: 0.162\n",
      "Imputing row 301/718 with 0 missing, elapsed time: 0.163\n",
      "Imputing row 401/718 with 0 missing, elapsed time: 0.163\n",
      "Imputing row 501/718 with 1 missing, elapsed time: 0.164\n",
      "Imputing row 601/718 with 0 missing, elapsed time: 0.165\n",
      "Imputing row 701/718 with 0 missing, elapsed time: 0.166\n"
     ]
    }
   ],
   "source": [
    "#Apply KNN imputation algorithm\n",
    "columns=df.columns\n",
    "knn = KNN(k=3)\n",
    "df = knn.fit_transform(df)\n",
    "df = pd.DataFrame(df,columns=columns)"
   ]
  },
  {
   "cell_type": "code",
   "execution_count": 51,
   "metadata": {},
   "outputs": [
    {
     "data": {
      "text/plain": [
       "27.17548948938773"
      ]
     },
     "execution_count": 51,
     "metadata": {},
     "output_type": "execute_result"
    }
   ],
   "source": [
    "df['body_mass_index'].iloc[30]"
   ]
  },
  {
   "cell_type": "code",
   "execution_count": 52,
   "metadata": {},
   "outputs": [
    {
     "data": {
      "text/plain": [
       "id                                 0\n",
       "reason_for_absence                 0\n",
       "month_of_absence                   0\n",
       "day_of_the_week                    0\n",
       "seasons                            0\n",
       "transportation_expense             0\n",
       "distance_from_residence_to_work    0\n",
       "service_time                       0\n",
       "age                                0\n",
       "work_load_average_per_day          0\n",
       "hit_target                         0\n",
       "disciplinary_failure               0\n",
       "education                          0\n",
       "son                                0\n",
       "social_drinker                     0\n",
       "social_smoker                      0\n",
       "pet                                0\n",
       "weight                             0\n",
       "height                             0\n",
       "body_mass_index                    0\n",
       "absenteeism_time_in_hours          0\n",
       "dtype: int64"
      ]
     },
     "execution_count": 52,
     "metadata": {},
     "output_type": "execute_result"
    }
   ],
   "source": [
    "df.isnull().sum()"
   ]
  },
  {
   "cell_type": "markdown",
   "metadata": {},
   "source": [
    "# Outlier Analysis"
   ]
  },
  {
   "cell_type": "code",
   "execution_count": 53,
   "metadata": {},
   "outputs": [
    {
     "data": {
      "image/png": "[encoded data removed]",
      "text/plain": [
       "<Figure size 432x288 with 1 Axes>"
      ]
     },
     "metadata": {
      "needs_background": "light"
     },
     "output_type": "display_data"
    }
   ],
   "source": [
    "ax = sns.boxplot(df['transportation_expense'],orient='v',notch='True',color='r')"
   ]
  },
  {
   "cell_type": "code",
   "execution_count": 54,
   "metadata": {},
   "outputs": [
    {
     "data": {
      "image/png": "[encoded data removed]",
      "text/plain": [
       "<Figure size 432x288 with 1 Axes>"
      ]
     },
     "metadata": {
      "needs_background": "light"
     },
     "output_type": "display_data"
    }
   ],
   "source": [
    "ax = sns.boxplot(df['distance_from_residence_to_work'],orient='v',notch='True',color='r')"
   ]
  },
  {
   "cell_type": "code",
   "execution_count": 55,
   "metadata": {},
   "outputs": [
    {
     "data": {
      "image/png": "[encoded data removed]",
      "text/plain": [
       "<Figure size 432x288 with 1 Axes>"
      ]
     },
     "metadata": {
      "needs_background": "light"
     },
     "output_type": "display_data"
    }
   ],
   "source": [
    "ax = sns.boxplot(df['service_time'],orient='v',notch='True',color='r')"
   ]
  },
  {
   "cell_type": "code",
   "execution_count": 56,
   "metadata": {},
   "outputs": [
    {
     "data": {
      "image/png": "[encoded data removed]",
      "text/plain": [
       "<Figure size 432x288 with 1 Axes>"
      ]
     },
     "metadata": {
      "needs_background": "light"
     },
     "output_type": "display_data"
    }
   ],
   "source": [
    "ax = sns.boxplot(df['age'],orient='v',notch='True',color='r')"
   ]
  },
  {
   "cell_type": "code",
   "execution_count": 57,
   "metadata": {},
   "outputs": [
    {
     "data": {
      "image/png": "[encoded data removed]",
      "text/plain": [
       "<Figure size 432x288 with 1 Axes>"
      ]
     },
     "metadata": {
      "needs_background": "light"
     },
     "output_type": "display_data"
    }
   ],
   "source": [
    "ax = sns.boxplot(df['work_load_average_per_day'],orient='v',notch='True',color='r')"
   ]
  },
  {
   "cell_type": "code",
   "execution_count": 58,
   "metadata": {},
   "outputs": [
    {
     "data": {
      "image/png": "[encoded data removed]",
      "text/plain": [
       "<Figure size 432x288 with 1 Axes>"
      ]
     },
     "metadata": {
      "needs_background": "light"
     },
     "output_type": "display_data"
    }
   ],
   "source": [
    "ax = sns.boxplot(df['hit_target'],orient='v',notch='True',color='r')"
   ]
  },
  {
   "cell_type": "code",
   "execution_count": 59,
   "metadata": {},
   "outputs": [
    {
     "data": {
      "image/png": "[encoded data removed]",
      "text/plain": [
       "<Figure size 432x288 with 1 Axes>"
      ]
     },
     "metadata": {
      "needs_background": "light"
     },
     "output_type": "display_data"
    }
   ],
   "source": [
    "ax = sns.boxplot(df['weight'],orient='v',notch='True',color='r')"
   ]
  },
  {
   "cell_type": "code",
   "execution_count": 60,
   "metadata": {},
   "outputs": [
    {
     "data": {
      "image/png": "[encoded data removed]",
      "text/plain": [
       "<Figure size 432x288 with 1 Axes>"
      ]
     },
     "metadata": {
      "needs_background": "light"
     },
     "output_type": "display_data"
    }
   ],
   "source": [
    "ax = sns.boxplot(df['height'],orient='v',notch='True',color='r')"
   ]
  },
  {
   "cell_type": "code",
   "execution_count": 61,
   "metadata": {},
   "outputs": [
    {
     "data": {
      "image/png": "[encoded data removed]",
      "text/plain": [
       "<Figure size 432x288 with 1 Axes>"
      ]
     },
     "metadata": {
      "needs_background": "light"
     },
     "output_type": "display_data"
    }
   ],
   "source": [
    "ax = sns.boxplot(df['body_mass_index'],orient='v',notch='True',color='r')"
   ]
  },
  {
   "cell_type": "code",
   "execution_count": 62,
   "metadata": {},
   "outputs": [
    {
     "data": {
      "image/png": "[encoded data removed]",
      "text/plain": [
       "<Figure size 432x288 with 1 Axes>"
      ]
     },
     "metadata": {
      "needs_background": "light"
     },
     "output_type": "display_data"
    }
   ],
   "source": [
    "ax = sns.boxplot(df['absenteeism_time_in_hours'],orient='v',notch='True',color='r')\n",
    "plt.title('Absenteeism time in hours')\n",
    "plt.show()"
   ]
  },
  {
   "cell_type": "code",
   "execution_count": 63,
   "metadata": {},
   "outputs": [
    {
     "name": "stdout",
     "output_type": "stream",
     "text": [
      "Imputing row 1/718 with 0 missing, elapsed time: 0.142\n",
      "Imputing row 101/718 with 0 missing, elapsed time: 0.143\n",
      "Imputing row 201/718 with 1 missing, elapsed time: 0.144\n",
      "Imputing row 301/718 with 0 missing, elapsed time: 0.147\n",
      "Imputing row 401/718 with 0 missing, elapsed time: 0.148\n",
      "Imputing row 501/718 with 0 missing, elapsed time: 0.149\n",
      "Imputing row 601/718 with 1 missing, elapsed time: 0.150\n",
      "Imputing row 701/718 with 0 missing, elapsed time: 0.152\n"
     ]
    },
    {
     "data": {
      "text/plain": [
       "0"
      ]
     },
     "execution_count": 63,
     "metadata": {},
     "output_type": "execute_result"
    }
   ],
   "source": [
    "# Looping over all continuou variables to detect and impute Outliers\n",
    "for i in continuous_var:\n",
    "    if i == 'absenteeism_time_in_hours':\n",
    "        continue\n",
    "    # Getting 75 and 25 percentile of variable \"i\"\n",
    "    q75, q25 = np.percentile(df[i], [75,25])\n",
    "    # Calculating Interquartile range\n",
    "    iqr = q75 - q25\n",
    "    \n",
    "    # Calculating upper extream and lower extream\n",
    "    minimum = q25 - (iqr*1.5)\n",
    "    maximum = q75 + (iqr*1.5)\n",
    "    \n",
    "    # Replacing all the outliers value to NA\n",
    "    df.loc[df[i]< minimum,i] = np.nan\n",
    "    df.loc[df[i]> maximum,i] = np.nan\n",
    "\n",
    "\n",
    "# Imputing missing values with KNN\n",
    "knn = KNN(k=3)\n",
    "df = knn.fit_transform(df)\n",
    "df = pd.DataFrame(df,columns=columns)\n",
    "\n",
    "#df = pd.DataFrame(KNN(k = 3), columns = df.columns)\n",
    "\n",
    "# Checking if there is any missing value\n",
    "df.isnull().sum().sum()"
   ]
  },
  {
   "cell_type": "code",
   "execution_count": 64,
   "metadata": {},
   "outputs": [
    {
     "data": {
      "text/html": [
       "<div>\n",
       "<style scoped>\n",
       "    .dataframe tbody tr th:only-of-type {\n",
       "        vertical-align: middle;\n",
       "    }\n",
       "\n",
       "    .dataframe tbody tr th {\n",
       "        vertical-align: top;\n",
       "    }\n",
       "\n",
       "    .dataframe thead th {\n",
       "        text-align: right;\n",
       "    }\n",
       "</style>\n",
       "<table border=\"1\" class=\"dataframe\">\n",
       "  <thead>\n",
       "    <tr style=\"text-align: right;\">\n",
       "      <th></th>\n",
       "      <th>id</th>\n",
       "      <th>reason_for_absence</th>\n",
       "      <th>month_of_absence</th>\n",
       "      <th>day_of_the_week</th>\n",
       "      <th>seasons</th>\n",
       "      <th>transportation_expense</th>\n",
       "      <th>distance_from_residence_to_work</th>\n",
       "      <th>service_time</th>\n",
       "      <th>age</th>\n",
       "      <th>work_load_average_per_day</th>\n",
       "      <th>...</th>\n",
       "      <th>disciplinary_failure</th>\n",
       "      <th>education</th>\n",
       "      <th>son</th>\n",
       "      <th>social_drinker</th>\n",
       "      <th>social_smoker</th>\n",
       "      <th>pet</th>\n",
       "      <th>weight</th>\n",
       "      <th>height</th>\n",
       "      <th>body_mass_index</th>\n",
       "      <th>absenteeism_time_in_hours</th>\n",
       "    </tr>\n",
       "  </thead>\n",
       "  <tbody>\n",
       "    <tr>\n",
       "      <th>count</th>\n",
       "      <td>718.000000</td>\n",
       "      <td>718.000000</td>\n",
       "      <td>718.000000</td>\n",
       "      <td>718.000000</td>\n",
       "      <td>718.000000</td>\n",
       "      <td>718.000000</td>\n",
       "      <td>718.000000</td>\n",
       "      <td>718.000000</td>\n",
       "      <td>718.000000</td>\n",
       "      <td>718.000000</td>\n",
       "      <td>...</td>\n",
       "      <td>718.000000</td>\n",
       "      <td>718.000000</td>\n",
       "      <td>718.000000</td>\n",
       "      <td>718.000000</td>\n",
       "      <td>718.000000</td>\n",
       "      <td>718.000000</td>\n",
       "      <td>718.000000</td>\n",
       "      <td>718.000000</td>\n",
       "      <td>718.000000</td>\n",
       "      <td>718.000000</td>\n",
       "    </tr>\n",
       "    <tr>\n",
       "      <th>mean</th>\n",
       "      <td>17.981894</td>\n",
       "      <td>19.418432</td>\n",
       "      <td>6.270195</td>\n",
       "      <td>3.899721</td>\n",
       "      <td>2.532033</td>\n",
       "      <td>219.943156</td>\n",
       "      <td>29.577747</td>\n",
       "      <td>12.472405</td>\n",
       "      <td>36.189851</td>\n",
       "      <td>267165.046587</td>\n",
       "      <td>...</td>\n",
       "      <td>0.045961</td>\n",
       "      <td>1.296657</td>\n",
       "      <td>1.011083</td>\n",
       "      <td>0.563592</td>\n",
       "      <td>0.071031</td>\n",
       "      <td>0.742340</td>\n",
       "      <td>79.059889</td>\n",
       "      <td>170.172181</td>\n",
       "      <td>26.698340</td>\n",
       "      <td>6.977716</td>\n",
       "    </tr>\n",
       "    <tr>\n",
       "      <th>std</th>\n",
       "      <td>11.035935</td>\n",
       "      <td>8.288079</td>\n",
       "      <td>3.440181</td>\n",
       "      <td>1.419519</td>\n",
       "      <td>1.105813</td>\n",
       "      <td>65.210423</td>\n",
       "      <td>14.787993</td>\n",
       "      <td>4.149299</td>\n",
       "      <td>6.077329</td>\n",
       "      <td>32252.992788</td>\n",
       "      <td>...</td>\n",
       "      <td>0.209547</td>\n",
       "      <td>0.678225</td>\n",
       "      <td>1.088586</td>\n",
       "      <td>0.495917</td>\n",
       "      <td>0.257055</td>\n",
       "      <td>1.310473</td>\n",
       "      <td>12.867657</td>\n",
       "      <td>1.815177</td>\n",
       "      <td>4.196589</td>\n",
       "      <td>13.476962</td>\n",
       "    </tr>\n",
       "    <tr>\n",
       "      <th>min</th>\n",
       "      <td>1.000000</td>\n",
       "      <td>0.000000</td>\n",
       "      <td>0.000000</td>\n",
       "      <td>2.000000</td>\n",
       "      <td>1.000000</td>\n",
       "      <td>118.000000</td>\n",
       "      <td>5.000000</td>\n",
       "      <td>1.000000</td>\n",
       "      <td>27.000000</td>\n",
       "      <td>205917.000000</td>\n",
       "      <td>...</td>\n",
       "      <td>0.000000</td>\n",
       "      <td>1.000000</td>\n",
       "      <td>0.000000</td>\n",
       "      <td>0.000000</td>\n",
       "      <td>0.000000</td>\n",
       "      <td>0.000000</td>\n",
       "      <td>56.000000</td>\n",
       "      <td>165.000000</td>\n",
       "      <td>19.000000</td>\n",
       "      <td>0.000000</td>\n",
       "    </tr>\n",
       "    <tr>\n",
       "      <th>25%</th>\n",
       "      <td>9.000000</td>\n",
       "      <td>13.000000</td>\n",
       "      <td>3.000000</td>\n",
       "      <td>3.000000</td>\n",
       "      <td>2.000000</td>\n",
       "      <td>179.000000</td>\n",
       "      <td>16.000000</td>\n",
       "      <td>9.000000</td>\n",
       "      <td>31.000000</td>\n",
       "      <td>244387.000000</td>\n",
       "      <td>...</td>\n",
       "      <td>0.000000</td>\n",
       "      <td>1.000000</td>\n",
       "      <td>0.000000</td>\n",
       "      <td>0.000000</td>\n",
       "      <td>0.000000</td>\n",
       "      <td>0.000000</td>\n",
       "      <td>69.000000</td>\n",
       "      <td>169.000000</td>\n",
       "      <td>24.000000</td>\n",
       "      <td>2.000000</td>\n",
       "    </tr>\n",
       "    <tr>\n",
       "      <th>50%</th>\n",
       "      <td>18.000000</td>\n",
       "      <td>23.000000</td>\n",
       "      <td>6.000000</td>\n",
       "      <td>4.000000</td>\n",
       "      <td>3.000000</td>\n",
       "      <td>225.000000</td>\n",
       "      <td>26.000000</td>\n",
       "      <td>13.000000</td>\n",
       "      <td>37.000000</td>\n",
       "      <td>264249.000000</td>\n",
       "      <td>...</td>\n",
       "      <td>0.000000</td>\n",
       "      <td>1.000000</td>\n",
       "      <td>1.000000</td>\n",
       "      <td>1.000000</td>\n",
       "      <td>0.000000</td>\n",
       "      <td>0.000000</td>\n",
       "      <td>83.000000</td>\n",
       "      <td>170.000000</td>\n",
       "      <td>25.000000</td>\n",
       "      <td>3.000000</td>\n",
       "    </tr>\n",
       "    <tr>\n",
       "      <th>75%</th>\n",
       "      <td>28.000000</td>\n",
       "      <td>26.750000</td>\n",
       "      <td>9.000000</td>\n",
       "      <td>5.000000</td>\n",
       "      <td>4.000000</td>\n",
       "      <td>260.000000</td>\n",
       "      <td>50.000000</td>\n",
       "      <td>16.000000</td>\n",
       "      <td>40.000000</td>\n",
       "      <td>284853.000000</td>\n",
       "      <td>...</td>\n",
       "      <td>0.000000</td>\n",
       "      <td>1.000000</td>\n",
       "      <td>2.000000</td>\n",
       "      <td>1.000000</td>\n",
       "      <td>0.000000</td>\n",
       "      <td>1.000000</td>\n",
       "      <td>89.000000</td>\n",
       "      <td>171.941148</td>\n",
       "      <td>31.000000</td>\n",
       "      <td>8.000000</td>\n",
       "    </tr>\n",
       "    <tr>\n",
       "      <th>max</th>\n",
       "      <td>36.000000</td>\n",
       "      <td>28.000000</td>\n",
       "      <td>12.000000</td>\n",
       "      <td>6.000000</td>\n",
       "      <td>4.000000</td>\n",
       "      <td>378.000000</td>\n",
       "      <td>52.000000</td>\n",
       "      <td>24.000000</td>\n",
       "      <td>53.000000</td>\n",
       "      <td>343253.000000</td>\n",
       "      <td>...</td>\n",
       "      <td>1.000000</td>\n",
       "      <td>4.000000</td>\n",
       "      <td>4.000000</td>\n",
       "      <td>1.000000</td>\n",
       "      <td>1.000000</td>\n",
       "      <td>8.000000</td>\n",
       "      <td>108.000000</td>\n",
       "      <td>175.000000</td>\n",
       "      <td>38.000000</td>\n",
       "      <td>120.000000</td>\n",
       "    </tr>\n",
       "  </tbody>\n",
       "</table>\n",
       "<p>8 rows × 21 columns</p>\n",
       "</div>"
      ],
      "text/plain": [
       "               id  reason_for_absence  month_of_absence  day_of_the_week  \\\n",
       "count  718.000000          718.000000        718.000000       718.000000   \n",
       "mean    17.981894           19.418432          6.270195         3.899721   \n",
       "std     11.035935            8.288079          3.440181         1.419519   \n",
       "min      1.000000            0.000000          0.000000         2.000000   \n",
       "25%      9.000000           13.000000          3.000000         3.000000   \n",
       "50%     18.000000           23.000000          6.000000         4.000000   \n",
       "75%     28.000000           26.750000          9.000000         5.000000   \n",
       "max     36.000000           28.000000         12.000000         6.000000   \n",
       "\n",
       "          seasons  transportation_expense  distance_from_residence_to_work  \\\n",
       "count  718.000000              718.000000                       718.000000   \n",
       "mean     2.532033              219.943156                        29.577747   \n",
       "std      1.105813               65.210423                        14.787993   \n",
       "min      1.000000              118.000000                         5.000000   \n",
       "25%      2.000000              179.000000                        16.000000   \n",
       "50%      3.000000              225.000000                        26.000000   \n",
       "75%      4.000000              260.000000                        50.000000   \n",
       "max      4.000000              378.000000                        52.000000   \n",
       "\n",
       "       service_time         age  work_load_average_per_day  ...  \\\n",
       "count    718.000000  718.000000                 718.000000  ...   \n",
       "mean      12.472405   36.189851              267165.046587  ...   \n",
       "std        4.149299    6.077329               32252.992788  ...   \n",
       "min        1.000000   27.000000              205917.000000  ...   \n",
       "25%        9.000000   31.000000              244387.000000  ...   \n",
       "50%       13.000000   37.000000              264249.000000  ...   \n",
       "75%       16.000000   40.000000              284853.000000  ...   \n",
       "max       24.000000   53.000000              343253.000000  ...   \n",
       "\n",
       "       disciplinary_failure   education         son  social_drinker  \\\n",
       "count            718.000000  718.000000  718.000000      718.000000   \n",
       "mean               0.045961    1.296657    1.011083        0.563592   \n",
       "std                0.209547    0.678225    1.088586        0.495917   \n",
       "min                0.000000    1.000000    0.000000        0.000000   \n",
       "25%                0.000000    1.000000    0.000000        0.000000   \n",
       "50%                0.000000    1.000000    1.000000        1.000000   \n",
       "75%                0.000000    1.000000    2.000000        1.000000   \n",
       "max                1.000000    4.000000    4.000000        1.000000   \n",
       "\n",
       "       social_smoker         pet      weight      height  body_mass_index  \\\n",
       "count     718.000000  718.000000  718.000000  718.000000       718.000000   \n",
       "mean        0.071031    0.742340   79.059889  170.172181        26.698340   \n",
       "std         0.257055    1.310473   12.867657    1.815177         4.196589   \n",
       "min         0.000000    0.000000   56.000000  165.000000        19.000000   \n",
       "25%         0.000000    0.000000   69.000000  169.000000        24.000000   \n",
       "50%         0.000000    0.000000   83.000000  170.000000        25.000000   \n",
       "75%         0.000000    1.000000   89.000000  171.941148        31.000000   \n",
       "max         1.000000    8.000000  108.000000  175.000000        38.000000   \n",
       "\n",
       "       absenteeism_time_in_hours  \n",
       "count                 718.000000  \n",
       "mean                    6.977716  \n",
       "std                    13.476962  \n",
       "min                     0.000000  \n",
       "25%                     2.000000  \n",
       "50%                     3.000000  \n",
       "75%                     8.000000  \n",
       "max                   120.000000  \n",
       "\n",
       "[8 rows x 21 columns]"
      ]
     },
     "execution_count": 64,
     "metadata": {},
     "output_type": "execute_result"
    }
   ],
   "source": [
    "df.describe()"
   ]
  },
  {
   "cell_type": "markdown",
   "metadata": {},
   "source": [
    "# Feature Selection "
   ]
  },
  {
   "cell_type": "code",
   "execution_count": 65,
   "metadata": {},
   "outputs": [
    {
     "data": {
      "text/plain": [
       "<matplotlib.axes._subplots.AxesSubplot at 0x12d89860>"
      ]
     },
     "execution_count": 65,
     "metadata": {},
     "output_type": "execute_result"
    },
    {
     "data": {
      "image/png": "[encoded data removed]",
      "text/plain": [
       "<Figure size 504x504 with 2 Axes>"
      ]
     },
     "metadata": {
      "needs_background": "light"
     },
     "output_type": "display_data"
    }
   ],
   "source": [
    "##Correlation analysis\n",
    "df_corr = df.loc[:,continuous_var]\n",
    "\n",
    "#Set the width and hieght of the plot\n",
    "f, ax = plt.subplots(figsize=(7,7))\n",
    "\n",
    "#Generate correlation matrix\n",
    "corr = df_corr.corr()\n",
    "\n",
    "#Plot using seaborn library\n",
    "sns.heatmap(corr, mask=np.zeros_like(corr, dtype=np.bool), cmap=sns.diverging_palette(220, 10, as_cmap=True),\n",
    "            square=True, ax=ax, annot=True)"
   ]
  },
  {
   "cell_type": "code",
   "execution_count": 66,
   "metadata": {},
   "outputs": [],
   "source": [
    "# BMI and weight have high correlation. one of them can be dropped."
   ]
  },
  {
   "cell_type": "markdown",
   "metadata": {},
   "source": [
    "# check for categorical variable selection for model"
   ]
  },
  {
   "cell_type": "code",
   "execution_count": 67,
   "metadata": {},
   "outputs": [
    {
     "data": {
      "text/plain": [
       "Index(['id', 'reason_for_absence', 'month_of_absence', 'day_of_the_week',\n",
       "       'seasons', 'transportation_expense', 'distance_from_residence_to_work',\n",
       "       'service_time', 'age', 'work_load_average_per_day', 'hit_target',\n",
       "       'disciplinary_failure', 'education', 'son', 'social_drinker',\n",
       "       'social_smoker', 'pet', 'weight', 'height', 'body_mass_index',\n",
       "       'absenteeism_time_in_hours'],\n",
       "      dtype='object')"
      ]
     },
     "execution_count": 67,
     "metadata": {},
     "output_type": "execute_result"
    }
   ],
   "source": [
    "df.columns"
   ]
  },
  {
   "cell_type": "code",
   "execution_count": 68,
   "metadata": {},
   "outputs": [
    {
     "data": {
      "text/plain": [
       "['id',\n",
       " 'reason_for_absence',\n",
       " 'month_of_absence',\n",
       " 'day_of_the_week',\n",
       " 'seasons',\n",
       " 'disciplinary_failure',\n",
       " 'education',\n",
       " 'son',\n",
       " 'social_drinker',\n",
       " 'social_smoker',\n",
       " 'pet']"
      ]
     },
     "execution_count": 68,
     "metadata": {},
     "output_type": "execute_result"
    }
   ],
   "source": [
    "categorical_vars"
   ]
  },
  {
   "cell_type": "code",
   "execution_count": 69,
   "metadata": {},
   "outputs": [
    {
     "name": "stdout",
     "output_type": "stream",
     "text": [
      "                                OLS Regression Results                               \n",
      "=====================================================================================\n",
      "Dep. Variable:     absenteeism_time_in_hours   R-squared:                       0.000\n",
      "Model:                                   OLS   Adj. R-squared:                 -0.001\n",
      "Method:                        Least Squares   F-statistic:                    0.3142\n",
      "Date:                       Mon, 05 Aug 2019   Prob (F-statistic):              0.575\n",
      "Time:                               00:35:28   Log-Likelihood:                -2885.6\n",
      "No. Observations:                        718   AIC:                             5775.\n",
      "Df Residuals:                            716   BIC:                             5784.\n",
      "Df Model:                                  1                                         \n",
      "Covariance Type:                   nonrobust                                         \n",
      "==============================================================================\n",
      "                 coef    std err          t      P>|t|      [0.025      0.975]\n",
      "------------------------------------------------------------------------------\n",
      "Intercept      7.4376      0.962      7.727      0.000       5.548       9.327\n",
      "id            -0.0256      0.046     -0.561      0.575      -0.115       0.064\n",
      "==============================================================================\n",
      "Omnibus:                      819.952   Durbin-Watson:                   2.004\n",
      "Prob(Omnibus):                  0.000   Jarque-Bera (JB):            46833.523\n",
      "Skew:                           5.684   Prob(JB):                         0.00\n",
      "Kurtosis:                      40.898   Cond. No.                         40.4\n",
      "==============================================================================\n",
      "\n",
      "Warnings:\n",
      "[1] Standard Errors assume that the covariance matrix of the errors is correctly specified.\n"
     ]
    }
   ],
   "source": [
    "model = smf.ols(formula='absenteeism_time_in_hours ~ id', data=df)\n",
    "results = model.fit()\n",
    "print (results.summary())"
   ]
  },
  {
   "cell_type": "code",
   "execution_count": 70,
   "metadata": {},
   "outputs": [
    {
     "name": "stdout",
     "output_type": "stream",
     "text": [
      "                                OLS Regression Results                               \n",
      "=====================================================================================\n",
      "Dep. Variable:     absenteeism_time_in_hours   R-squared:                       0.042\n",
      "Model:                                   OLS   Adj. R-squared:                  0.041\n",
      "Method:                        Least Squares   F-statistic:                     31.48\n",
      "Date:                       Mon, 05 Aug 2019   Prob (F-statistic):           2.88e-08\n",
      "Time:                               00:35:28   Log-Likelihood:                -2870.4\n",
      "No. Observations:                        718   AIC:                             5745.\n",
      "Df Residuals:                            716   BIC:                             5754.\n",
      "Df Model:                                  1                                         \n",
      "Covariance Type:                   nonrobust                                         \n",
      "======================================================================================\n",
      "                         coef    std err          t      P>|t|      [0.025      0.975]\n",
      "--------------------------------------------------------------------------------------\n",
      "Intercept             13.4577      1.256     10.718      0.000      10.993      15.923\n",
      "reason_for_absence    -0.3337      0.059     -5.611      0.000      -0.450      -0.217\n",
      "==============================================================================\n",
      "Omnibus:                      799.533   Durbin-Watson:                   1.975\n",
      "Prob(Omnibus):                  0.000   Jarque-Bera (JB):            43157.152\n",
      "Skew:                           5.460   Prob(JB):                         0.00\n",
      "Kurtosis:                      39.378   Cond. No.                         53.9\n",
      "==============================================================================\n",
      "\n",
      "Warnings:\n",
      "[1] Standard Errors assume that the covariance matrix of the errors is correctly specified.\n"
     ]
    }
   ],
   "source": [
    "model = smf.ols(formula='absenteeism_time_in_hours ~ reason_for_absence', data=df)\n",
    "results = model.fit()\n",
    "print (results.summary())"
   ]
  },
  {
   "cell_type": "code",
   "execution_count": 71,
   "metadata": {},
   "outputs": [
    {
     "name": "stdout",
     "output_type": "stream",
     "text": [
      "                                OLS Regression Results                               \n",
      "=====================================================================================\n",
      "Dep. Variable:     absenteeism_time_in_hours   R-squared:                       0.001\n",
      "Model:                                   OLS   Adj. R-squared:                 -0.001\n",
      "Method:                        Least Squares   F-statistic:                    0.4754\n",
      "Date:                       Mon, 05 Aug 2019   Prob (F-statistic):              0.491\n",
      "Time:                               00:35:28   Log-Likelihood:                -2885.6\n",
      "No. Observations:                        718   AIC:                             5775.\n",
      "Df Residuals:                            716   BIC:                             5784.\n",
      "Df Model:                                  1                                         \n",
      "Covariance Type:                   nonrobust                                         \n",
      "====================================================================================\n",
      "                       coef    std err          t      P>|t|      [0.025      0.975]\n",
      "------------------------------------------------------------------------------------\n",
      "Intercept            6.3450      1.047      6.063      0.000       4.290       8.400\n",
      "month_of_absence     0.1009      0.146      0.690      0.491      -0.186       0.388\n",
      "==============================================================================\n",
      "Omnibus:                      819.081   Durbin-Watson:                   2.006\n",
      "Prob(Omnibus):                  0.000   Jarque-Bera (JB):            46727.962\n",
      "Skew:                           5.673   Prob(JB):                         0.00\n",
      "Kurtosis:                      40.858   Cond. No.                         15.1\n",
      "==============================================================================\n",
      "\n",
      "Warnings:\n",
      "[1] Standard Errors assume that the covariance matrix of the errors is correctly specified.\n"
     ]
    }
   ],
   "source": [
    "model = smf.ols(formula='absenteeism_time_in_hours ~ month_of_absence', data=df)\n",
    "results = model.fit()\n",
    "print (results.summary())"
   ]
  },
  {
   "cell_type": "code",
   "execution_count": 72,
   "metadata": {},
   "outputs": [
    {
     "name": "stdout",
     "output_type": "stream",
     "text": [
      "                                OLS Regression Results                               \n",
      "=====================================================================================\n",
      "Dep. Variable:     absenteeism_time_in_hours   R-squared:                       0.014\n",
      "Model:                                   OLS   Adj. R-squared:                  0.012\n",
      "Method:                        Least Squares   F-statistic:                     9.959\n",
      "Date:                       Mon, 05 Aug 2019   Prob (F-statistic):            0.00167\n",
      "Time:                               00:35:28   Log-Likelihood:                -2880.8\n",
      "No. Observations:                        718   AIC:                             5766.\n",
      "Df Residuals:                            716   BIC:                             5775.\n",
      "Df Model:                                  1                                         \n",
      "Covariance Type:                   nonrobust                                         \n",
      "===================================================================================\n",
      "                      coef    std err          t      P>|t|      [0.025      0.975]\n",
      "-----------------------------------------------------------------------------------\n",
      "Intercept          11.3142      1.462      7.738      0.000       8.443      14.185\n",
      "day_of_the_week    -1.1120      0.352     -3.156      0.002      -1.804      -0.420\n",
      "==============================================================================\n",
      "Omnibus:                      815.225   Durbin-Watson:                   2.004\n",
      "Prob(Omnibus):                  0.000   Jarque-Bera (JB):            46084.492\n",
      "Skew:                           5.630   Prob(JB):                         0.00\n",
      "Kurtosis:                      40.599   Cond. No.                         12.8\n",
      "==============================================================================\n",
      "\n",
      "Warnings:\n",
      "[1] Standard Errors assume that the covariance matrix of the errors is correctly specified.\n"
     ]
    }
   ],
   "source": [
    "model = smf.ols(formula='absenteeism_time_in_hours ~ day_of_the_week', data=df)\n",
    "results = model.fit()\n",
    "print (results.summary())"
   ]
  },
  {
   "cell_type": "code",
   "execution_count": 73,
   "metadata": {},
   "outputs": [
    {
     "name": "stdout",
     "output_type": "stream",
     "text": [
      "                                OLS Regression Results                               \n",
      "=====================================================================================\n",
      "Dep. Variable:     absenteeism_time_in_hours   R-squared:                       0.000\n",
      "Model:                                   OLS   Adj. R-squared:                 -0.001\n",
      "Method:                        Least Squares   F-statistic:                  0.001316\n",
      "Date:                       Mon, 05 Aug 2019   Prob (F-statistic):              0.971\n",
      "Time:                               00:35:29   Log-Likelihood:                -2885.8\n",
      "No. Observations:                        718   AIC:                             5776.\n",
      "Df Residuals:                            716   BIC:                             5785.\n",
      "Df Model:                                  1                                         \n",
      "Covariance Type:                   nonrobust                                         \n",
      "==============================================================================\n",
      "                 coef    std err          t      P>|t|      [0.025      0.975]\n",
      "------------------------------------------------------------------------------\n",
      "Intercept      7.0196      1.258      5.579      0.000       4.549       9.490\n",
      "seasons       -0.0165      0.455     -0.036      0.971      -0.911       0.878\n",
      "==============================================================================\n",
      "Omnibus:                      819.279   Durbin-Watson:                   2.005\n",
      "Prob(Omnibus):                  0.000   Jarque-Bera (JB):            46711.864\n",
      "Skew:                           5.676   Prob(JB):                         0.00\n",
      "Kurtosis:                      40.849   Cond. No.                         7.68\n",
      "==============================================================================\n",
      "\n",
      "Warnings:\n",
      "[1] Standard Errors assume that the covariance matrix of the errors is correctly specified.\n"
     ]
    }
   ],
   "source": [
    "model = smf.ols(formula='absenteeism_time_in_hours ~ seasons', data=df)\n",
    "results = model.fit()\n",
    "print (results.summary())"
   ]
  },
  {
   "cell_type": "code",
   "execution_count": 74,
   "metadata": {},
   "outputs": [
    {
     "name": "stdout",
     "output_type": "stream",
     "text": [
      "                                OLS Regression Results                               \n",
      "=====================================================================================\n",
      "Dep. Variable:     absenteeism_time_in_hours   R-squared:                       0.003\n",
      "Model:                                   OLS   Adj. R-squared:                  0.002\n",
      "Method:                        Least Squares   F-statistic:                     2.130\n",
      "Date:                       Mon, 05 Aug 2019   Prob (F-statistic):              0.145\n",
      "Time:                               00:35:29   Log-Likelihood:                -2884.7\n",
      "No. Observations:                        718   AIC:                             5773.\n",
      "Df Residuals:                            716   BIC:                             5783.\n",
      "Df Model:                                  1                                         \n",
      "Covariance Type:                   nonrobust                                         \n",
      "========================================================================================\n",
      "                           coef    std err          t      P>|t|      [0.025      0.975]\n",
      "----------------------------------------------------------------------------------------\n",
      "Intercept                7.1387      0.515     13.874      0.000       6.129       8.149\n",
      "disciplinary_failure    -3.5023      2.400     -1.459      0.145      -8.214       1.210\n",
      "==============================================================================\n",
      "Omnibus:                      826.663   Durbin-Watson:                   2.000\n",
      "Prob(Omnibus):                  0.000   Jarque-Bera (JB):            48804.961\n",
      "Skew:                           5.750   Prob(JB):                         0.00\n",
      "Kurtosis:                      41.718   Cond. No.                         4.79\n",
      "==============================================================================\n",
      "\n",
      "Warnings:\n",
      "[1] Standard Errors assume that the covariance matrix of the errors is correctly specified.\n"
     ]
    }
   ],
   "source": [
    "model = smf.ols(formula='absenteeism_time_in_hours ~ disciplinary_failure', data=df)\n",
    "results = model.fit()\n",
    "print (results.summary())"
   ]
  },
  {
   "cell_type": "code",
   "execution_count": 75,
   "metadata": {},
   "outputs": [
    {
     "name": "stdout",
     "output_type": "stream",
     "text": [
      "                                OLS Regression Results                               \n",
      "=====================================================================================\n",
      "Dep. Variable:     absenteeism_time_in_hours   R-squared:                       0.002\n",
      "Model:                                   OLS   Adj. R-squared:                  0.001\n",
      "Method:                        Least Squares   F-statistic:                     1.557\n",
      "Date:                       Mon, 05 Aug 2019   Prob (F-statistic):              0.213\n",
      "Time:                               00:35:29   Log-Likelihood:                -2885.0\n",
      "No. Observations:                        718   AIC:                             5774.\n",
      "Df Residuals:                            716   BIC:                             5783.\n",
      "Df Model:                                  1                                         \n",
      "Covariance Type:                   nonrobust                                         \n",
      "==============================================================================\n",
      "                 coef    std err          t      P>|t|      [0.025      0.975]\n",
      "------------------------------------------------------------------------------\n",
      "Intercept      8.1778      1.085      7.535      0.000       6.047      10.309\n",
      "education     -0.9255      0.742     -1.248      0.213      -2.382       0.531\n",
      "==============================================================================\n",
      "Omnibus:                      817.058   Durbin-Watson:                   2.006\n",
      "Prob(Omnibus):                  0.000   Jarque-Bera (JB):            46198.340\n",
      "Skew:                           5.653   Prob(JB):                         0.00\n",
      "Kurtosis:                      40.635   Cond. No.                         4.41\n",
      "==============================================================================\n",
      "\n",
      "Warnings:\n",
      "[1] Standard Errors assume that the covariance matrix of the errors is correctly specified.\n"
     ]
    }
   ],
   "source": [
    "model = smf.ols(formula='absenteeism_time_in_hours ~ education', data=df)\n",
    "results = model.fit()\n",
    "print (results.summary())"
   ]
  },
  {
   "cell_type": "code",
   "execution_count": 76,
   "metadata": {},
   "outputs": [
    {
     "name": "stdout",
     "output_type": "stream",
     "text": [
      "                                OLS Regression Results                               \n",
      "=====================================================================================\n",
      "Dep. Variable:     absenteeism_time_in_hours   R-squared:                       0.015\n",
      "Model:                                   OLS   Adj. R-squared:                  0.014\n",
      "Method:                        Least Squares   F-statistic:                     10.84\n",
      "Date:                       Mon, 05 Aug 2019   Prob (F-statistic):            0.00104\n",
      "Time:                               00:35:29   Log-Likelihood:                -2880.4\n",
      "No. Observations:                        718   AIC:                             5765.\n",
      "Df Residuals:                            716   BIC:                             5774.\n",
      "Df Model:                                  1                                         \n",
      "Covariance Type:                   nonrobust                                         \n",
      "==============================================================================\n",
      "                 coef    std err          t      P>|t|      [0.025      0.975]\n",
      "------------------------------------------------------------------------------\n",
      "Intercept      5.4494      0.682      7.990      0.000       4.110       6.788\n",
      "son            1.5116      0.459      3.292      0.001       0.610       2.413\n",
      "==============================================================================\n",
      "Omnibus:                      814.826   Durbin-Watson:                   2.026\n",
      "Prob(Omnibus):                  0.000   Jarque-Bera (JB):            45887.211\n",
      "Skew:                           5.627   Prob(JB):                         0.00\n",
      "Kurtosis:                      40.512   Cond. No.                         2.56\n",
      "==============================================================================\n",
      "\n",
      "Warnings:\n",
      "[1] Standard Errors assume that the covariance matrix of the errors is correctly specified.\n"
     ]
    }
   ],
   "source": [
    "model = smf.ols(formula='absenteeism_time_in_hours ~ son', data=df)\n",
    "results = model.fit()\n",
    "print (results.summary())"
   ]
  },
  {
   "cell_type": "code",
   "execution_count": 77,
   "metadata": {},
   "outputs": [
    {
     "name": "stdout",
     "output_type": "stream",
     "text": [
      "                                OLS Regression Results                               \n",
      "=====================================================================================\n",
      "Dep. Variable:     absenteeism_time_in_hours   R-squared:                       0.004\n",
      "Model:                                   OLS   Adj. R-squared:                  0.003\n",
      "Method:                        Least Squares   F-statistic:                     2.982\n",
      "Date:                       Mon, 05 Aug 2019   Prob (F-statistic):             0.0846\n",
      "Time:                               00:35:29   Log-Likelihood:                -2884.3\n",
      "No. Observations:                        718   AIC:                             5773.\n",
      "Df Residuals:                            716   BIC:                             5782.\n",
      "Df Model:                                  1                                         \n",
      "Covariance Type:                   nonrobust                                         \n",
      "==================================================================================\n",
      "                     coef    std err          t      P>|t|      [0.025      0.975]\n",
      "----------------------------------------------------------------------------------\n",
      "Intercept          5.9914      0.761      7.877      0.000       4.498       7.485\n",
      "social_drinker     1.7501      1.014      1.727      0.085      -0.240       3.740\n",
      "==============================================================================\n",
      "Omnibus:                      821.608   Durbin-Watson:                   2.010\n",
      "Prob(Omnibus):                  0.000   Jarque-Bera (JB):            47543.786\n",
      "Skew:                           5.697   Prob(JB):                         0.00\n",
      "Kurtosis:                      41.202   Cond. No.                         2.80\n",
      "==============================================================================\n",
      "\n",
      "Warnings:\n",
      "[1] Standard Errors assume that the covariance matrix of the errors is correctly specified.\n"
     ]
    }
   ],
   "source": [
    "model = smf.ols(formula='absenteeism_time_in_hours ~ social_drinker', data=df)\n",
    "results = model.fit()\n",
    "print (results.summary())"
   ]
  },
  {
   "cell_type": "code",
   "execution_count": 78,
   "metadata": {},
   "outputs": [
    {
     "name": "stdout",
     "output_type": "stream",
     "text": [
      "                                OLS Regression Results                               \n",
      "=====================================================================================\n",
      "Dep. Variable:     absenteeism_time_in_hours   R-squared:                       0.002\n",
      "Model:                                   OLS   Adj. R-squared:                  0.000\n",
      "Method:                        Least Squares   F-statistic:                     1.335\n",
      "Date:                       Mon, 05 Aug 2019   Prob (F-statistic):              0.248\n",
      "Time:                               00:35:29   Log-Likelihood:                -2885.1\n",
      "No. Observations:                        718   AIC:                             5774.\n",
      "Df Residuals:                            716   BIC:                             5783.\n",
      "Df Model:                                  1                                         \n",
      "Covariance Type:                   nonrobust                                         \n",
      "=================================================================================\n",
      "                    coef    std err          t      P>|t|      [0.025      0.975]\n",
      "---------------------------------------------------------------------------------\n",
      "Intercept         6.8171      0.522     13.067      0.000       5.793       7.841\n",
      "social_smoker     2.2613      1.958      1.155      0.248      -1.582       6.104\n",
      "==============================================================================\n",
      "Omnibus:                      817.551   Durbin-Watson:                   2.015\n",
      "Prob(Omnibus):                  0.000   Jarque-Bera (JB):            46256.841\n",
      "Skew:                           5.658   Prob(JB):                         0.00\n",
      "Kurtosis:                      40.658   Cond. No.                         3.91\n",
      "==============================================================================\n",
      "\n",
      "Warnings:\n",
      "[1] Standard Errors assume that the covariance matrix of the errors is correctly specified.\n"
     ]
    }
   ],
   "source": [
    "model = smf.ols(formula='absenteeism_time_in_hours ~ social_smoker', data=df)\n",
    "results = model.fit()\n",
    "print (results.summary())"
   ]
  },
  {
   "cell_type": "code",
   "execution_count": 79,
   "metadata": {},
   "outputs": [
    {
     "name": "stdout",
     "output_type": "stream",
     "text": [
      "                                OLS Regression Results                               \n",
      "=====================================================================================\n",
      "Dep. Variable:     absenteeism_time_in_hours   R-squared:                       0.001\n",
      "Model:                                   OLS   Adj. R-squared:                 -0.001\n",
      "Method:                        Least Squares   F-statistic:                    0.5925\n",
      "Date:                       Mon, 05 Aug 2019   Prob (F-statistic):              0.442\n",
      "Time:                               00:35:29   Log-Likelihood:                -2885.5\n",
      "No. Observations:                        718   AIC:                             5775.\n",
      "Df Residuals:                            716   BIC:                             5784.\n",
      "Df Model:                                  1                                         \n",
      "Covariance Type:                   nonrobust                                         \n",
      "==============================================================================\n",
      "                 coef    std err          t      P>|t|      [0.025      0.975]\n",
      "------------------------------------------------------------------------------\n",
      "Intercept      7.1972      0.578     12.445      0.000       6.062       8.333\n",
      "pet           -0.2957      0.384     -0.770      0.442      -1.050       0.459\n",
      "==============================================================================\n",
      "Omnibus:                      819.089   Durbin-Watson:                   2.004\n",
      "Prob(Omnibus):                  0.000   Jarque-Bera (JB):            46745.682\n",
      "Skew:                           5.673   Prob(JB):                         0.00\n",
      "Kurtosis:                      40.865   Cond. No.                         1.99\n",
      "==============================================================================\n",
      "\n",
      "Warnings:\n",
      "[1] Standard Errors assume that the covariance matrix of the errors is correctly specified.\n"
     ]
    }
   ],
   "source": [
    "model = smf.ols(formula='absenteeism_time_in_hours ~ pet', data=df)\n",
    "results = model.fit()\n",
    "print (results.summary())"
   ]
  },
  {
   "cell_type": "code",
   "execution_count": 80,
   "metadata": {},
   "outputs": [],
   "source": [
    "# for p<0.05, we reject the Ho. Hence id,month_of_absence,day_of_the_week,disciplinary_failure,\n",
    "# education,social_drinker,social_smoker, pet variables can be dropped"
   ]
  },
  {
   "cell_type": "code",
   "execution_count": 81,
   "metadata": {},
   "outputs": [],
   "source": [
    "df = df.drop(columns=['body_mass_index','id','month_of_absence','day_of_the_week','disciplinary_failure',\\\n",
    "                      'education','social_drinker','social_smoker','pet'],axis=1)"
   ]
  },
  {
   "cell_type": "code",
   "execution_count": 82,
   "metadata": {},
   "outputs": [
    {
     "data": {
      "text/html": [
       "<div>\n",
       "<style scoped>\n",
       "    .dataframe tbody tr th:only-of-type {\n",
       "        vertical-align: middle;\n",
       "    }\n",
       "\n",
       "    .dataframe tbody tr th {\n",
       "        vertical-align: top;\n",
       "    }\n",
       "\n",
       "    .dataframe thead th {\n",
       "        text-align: right;\n",
       "    }\n",
       "</style>\n",
       "<table border=\"1\" class=\"dataframe\">\n",
       "  <thead>\n",
       "    <tr style=\"text-align: right;\">\n",
       "      <th></th>\n",
       "      <th>reason_for_absence</th>\n",
       "      <th>seasons</th>\n",
       "      <th>transportation_expense</th>\n",
       "      <th>distance_from_residence_to_work</th>\n",
       "      <th>service_time</th>\n",
       "      <th>age</th>\n",
       "      <th>work_load_average_per_day</th>\n",
       "      <th>hit_target</th>\n",
       "      <th>son</th>\n",
       "      <th>weight</th>\n",
       "      <th>height</th>\n",
       "      <th>absenteeism_time_in_hours</th>\n",
       "    </tr>\n",
       "  </thead>\n",
       "  <tbody>\n",
       "    <tr>\n",
       "      <th>count</th>\n",
       "      <td>718.000000</td>\n",
       "      <td>718.000000</td>\n",
       "      <td>718.000000</td>\n",
       "      <td>718.000000</td>\n",
       "      <td>718.000000</td>\n",
       "      <td>718.000000</td>\n",
       "      <td>718.000000</td>\n",
       "      <td>718.000000</td>\n",
       "      <td>718.000000</td>\n",
       "      <td>718.000000</td>\n",
       "      <td>718.000000</td>\n",
       "      <td>718.000000</td>\n",
       "    </tr>\n",
       "    <tr>\n",
       "      <th>mean</th>\n",
       "      <td>19.418432</td>\n",
       "      <td>2.532033</td>\n",
       "      <td>219.943156</td>\n",
       "      <td>29.577747</td>\n",
       "      <td>12.472405</td>\n",
       "      <td>36.189851</td>\n",
       "      <td>267165.046587</td>\n",
       "      <td>94.940186</td>\n",
       "      <td>1.011083</td>\n",
       "      <td>79.059889</td>\n",
       "      <td>170.172181</td>\n",
       "      <td>6.977716</td>\n",
       "    </tr>\n",
       "    <tr>\n",
       "      <th>std</th>\n",
       "      <td>8.288079</td>\n",
       "      <td>1.105813</td>\n",
       "      <td>65.210423</td>\n",
       "      <td>14.787993</td>\n",
       "      <td>4.149299</td>\n",
       "      <td>6.077329</td>\n",
       "      <td>32252.992788</td>\n",
       "      <td>3.076533</td>\n",
       "      <td>1.088586</td>\n",
       "      <td>12.867657</td>\n",
       "      <td>1.815177</td>\n",
       "      <td>13.476962</td>\n",
       "    </tr>\n",
       "    <tr>\n",
       "      <th>min</th>\n",
       "      <td>0.000000</td>\n",
       "      <td>1.000000</td>\n",
       "      <td>118.000000</td>\n",
       "      <td>5.000000</td>\n",
       "      <td>1.000000</td>\n",
       "      <td>27.000000</td>\n",
       "      <td>205917.000000</td>\n",
       "      <td>87.000000</td>\n",
       "      <td>0.000000</td>\n",
       "      <td>56.000000</td>\n",
       "      <td>165.000000</td>\n",
       "      <td>0.000000</td>\n",
       "    </tr>\n",
       "    <tr>\n",
       "      <th>25%</th>\n",
       "      <td>13.000000</td>\n",
       "      <td>2.000000</td>\n",
       "      <td>179.000000</td>\n",
       "      <td>16.000000</td>\n",
       "      <td>9.000000</td>\n",
       "      <td>31.000000</td>\n",
       "      <td>244387.000000</td>\n",
       "      <td>93.000000</td>\n",
       "      <td>0.000000</td>\n",
       "      <td>69.000000</td>\n",
       "      <td>169.000000</td>\n",
       "      <td>2.000000</td>\n",
       "    </tr>\n",
       "    <tr>\n",
       "      <th>50%</th>\n",
       "      <td>23.000000</td>\n",
       "      <td>3.000000</td>\n",
       "      <td>225.000000</td>\n",
       "      <td>26.000000</td>\n",
       "      <td>13.000000</td>\n",
       "      <td>37.000000</td>\n",
       "      <td>264249.000000</td>\n",
       "      <td>95.000000</td>\n",
       "      <td>1.000000</td>\n",
       "      <td>83.000000</td>\n",
       "      <td>170.000000</td>\n",
       "      <td>3.000000</td>\n",
       "    </tr>\n",
       "    <tr>\n",
       "      <th>75%</th>\n",
       "      <td>26.750000</td>\n",
       "      <td>4.000000</td>\n",
       "      <td>260.000000</td>\n",
       "      <td>50.000000</td>\n",
       "      <td>16.000000</td>\n",
       "      <td>40.000000</td>\n",
       "      <td>284853.000000</td>\n",
       "      <td>97.000000</td>\n",
       "      <td>2.000000</td>\n",
       "      <td>89.000000</td>\n",
       "      <td>171.941148</td>\n",
       "      <td>8.000000</td>\n",
       "    </tr>\n",
       "    <tr>\n",
       "      <th>max</th>\n",
       "      <td>28.000000</td>\n",
       "      <td>4.000000</td>\n",
       "      <td>378.000000</td>\n",
       "      <td>52.000000</td>\n",
       "      <td>24.000000</td>\n",
       "      <td>53.000000</td>\n",
       "      <td>343253.000000</td>\n",
       "      <td>100.000000</td>\n",
       "      <td>4.000000</td>\n",
       "      <td>108.000000</td>\n",
       "      <td>175.000000</td>\n",
       "      <td>120.000000</td>\n",
       "    </tr>\n",
       "  </tbody>\n",
       "</table>\n",
       "</div>"
      ],
      "text/plain": [
       "       reason_for_absence     seasons  transportation_expense  \\\n",
       "count          718.000000  718.000000              718.000000   \n",
       "mean            19.418432    2.532033              219.943156   \n",
       "std              8.288079    1.105813               65.210423   \n",
       "min              0.000000    1.000000              118.000000   \n",
       "25%             13.000000    2.000000              179.000000   \n",
       "50%             23.000000    3.000000              225.000000   \n",
       "75%             26.750000    4.000000              260.000000   \n",
       "max             28.000000    4.000000              378.000000   \n",
       "\n",
       "       distance_from_residence_to_work  service_time         age  \\\n",
       "count                       718.000000    718.000000  718.000000   \n",
       "mean                         29.577747     12.472405   36.189851   \n",
       "std                          14.787993      4.149299    6.077329   \n",
       "min                           5.000000      1.000000   27.000000   \n",
       "25%                          16.000000      9.000000   31.000000   \n",
       "50%                          26.000000     13.000000   37.000000   \n",
       "75%                          50.000000     16.000000   40.000000   \n",
       "max                          52.000000     24.000000   53.000000   \n",
       "\n",
       "       work_load_average_per_day  hit_target         son      weight  \\\n",
       "count                 718.000000  718.000000  718.000000  718.000000   \n",
       "mean               267165.046587   94.940186    1.011083   79.059889   \n",
       "std                 32252.992788    3.076533    1.088586   12.867657   \n",
       "min                205917.000000   87.000000    0.000000   56.000000   \n",
       "25%                244387.000000   93.000000    0.000000   69.000000   \n",
       "50%                264249.000000   95.000000    1.000000   83.000000   \n",
       "75%                284853.000000   97.000000    2.000000   89.000000   \n",
       "max                343253.000000  100.000000    4.000000  108.000000   \n",
       "\n",
       "           height  absenteeism_time_in_hours  \n",
       "count  718.000000                 718.000000  \n",
       "mean   170.172181                   6.977716  \n",
       "std      1.815177                  13.476962  \n",
       "min    165.000000                   0.000000  \n",
       "25%    169.000000                   2.000000  \n",
       "50%    170.000000                   3.000000  \n",
       "75%    171.941148                   8.000000  \n",
       "max    175.000000                 120.000000  "
      ]
     },
     "execution_count": 82,
     "metadata": {},
     "output_type": "execute_result"
    }
   ],
   "source": [
    "df.describe()"
   ]
  },
  {
   "cell_type": "code",
   "execution_count": 83,
   "metadata": {},
   "outputs": [
    {
     "data": {
      "text/plain": [
       "reason_for_absence                 0\n",
       "seasons                            0\n",
       "transportation_expense             0\n",
       "distance_from_residence_to_work    0\n",
       "service_time                       0\n",
       "age                                0\n",
       "work_load_average_per_day          0\n",
       "hit_target                         0\n",
       "son                                0\n",
       "weight                             0\n",
       "height                             0\n",
       "absenteeism_time_in_hours          0\n",
       "dtype: int64"
      ]
     },
     "execution_count": 83,
     "metadata": {},
     "output_type": "execute_result"
    }
   ],
   "source": [
    "df.isnull().sum()"
   ]
  },
  {
   "cell_type": "code",
   "execution_count": 84,
   "metadata": {},
   "outputs": [
    {
     "name": "stdout",
     "output_type": "stream",
     "text": [
      "<class 'pandas.core.frame.DataFrame'>\n",
      "RangeIndex: 718 entries, 0 to 717\n",
      "Data columns (total 12 columns):\n",
      "reason_for_absence                 718 non-null float64\n",
      "seasons                            718 non-null float64\n",
      "transportation_expense             718 non-null float64\n",
      "distance_from_residence_to_work    718 non-null float64\n",
      "service_time                       718 non-null float64\n",
      "age                                718 non-null float64\n",
      "work_load_average_per_day          718 non-null float64\n",
      "hit_target                         718 non-null float64\n",
      "son                                718 non-null float64\n",
      "weight                             718 non-null float64\n",
      "height                             718 non-null float64\n",
      "absenteeism_time_in_hours          718 non-null float64\n",
      "dtypes: float64(12)\n",
      "memory usage: 67.4 KB\n"
     ]
    }
   ],
   "source": [
    "df.info()"
   ]
  },
  {
   "cell_type": "code",
   "execution_count": 85,
   "metadata": {},
   "outputs": [
    {
     "data": {
      "text/html": [
       "<div>\n",
       "<style scoped>\n",
       "    .dataframe tbody tr th:only-of-type {\n",
       "        vertical-align: middle;\n",
       "    }\n",
       "\n",
       "    .dataframe tbody tr th {\n",
       "        vertical-align: top;\n",
       "    }\n",
       "\n",
       "    .dataframe thead th {\n",
       "        text-align: right;\n",
       "    }\n",
       "</style>\n",
       "<table border=\"1\" class=\"dataframe\">\n",
       "  <thead>\n",
       "    <tr style=\"text-align: right;\">\n",
       "      <th></th>\n",
       "      <th>reason_for_absence</th>\n",
       "      <th>seasons</th>\n",
       "      <th>transportation_expense</th>\n",
       "      <th>distance_from_residence_to_work</th>\n",
       "      <th>service_time</th>\n",
       "      <th>age</th>\n",
       "      <th>work_load_average_per_day</th>\n",
       "      <th>hit_target</th>\n",
       "      <th>son</th>\n",
       "      <th>weight</th>\n",
       "      <th>height</th>\n",
       "      <th>absenteeism_time_in_hours</th>\n",
       "    </tr>\n",
       "  </thead>\n",
       "  <tbody>\n",
       "    <tr>\n",
       "      <th>count</th>\n",
       "      <td>718.000000</td>\n",
       "      <td>718.000000</td>\n",
       "      <td>718.000000</td>\n",
       "      <td>718.000000</td>\n",
       "      <td>718.000000</td>\n",
       "      <td>718.000000</td>\n",
       "      <td>718.000000</td>\n",
       "      <td>718.000000</td>\n",
       "      <td>718.000000</td>\n",
       "      <td>718.000000</td>\n",
       "      <td>718.000000</td>\n",
       "      <td>718.000000</td>\n",
       "    </tr>\n",
       "    <tr>\n",
       "      <th>mean</th>\n",
       "      <td>19.418432</td>\n",
       "      <td>2.532033</td>\n",
       "      <td>219.943156</td>\n",
       "      <td>29.577747</td>\n",
       "      <td>12.472405</td>\n",
       "      <td>36.189851</td>\n",
       "      <td>267165.046587</td>\n",
       "      <td>94.940186</td>\n",
       "      <td>1.011083</td>\n",
       "      <td>79.059889</td>\n",
       "      <td>170.172181</td>\n",
       "      <td>6.977716</td>\n",
       "    </tr>\n",
       "    <tr>\n",
       "      <th>std</th>\n",
       "      <td>8.288079</td>\n",
       "      <td>1.105813</td>\n",
       "      <td>65.210423</td>\n",
       "      <td>14.787993</td>\n",
       "      <td>4.149299</td>\n",
       "      <td>6.077329</td>\n",
       "      <td>32252.992788</td>\n",
       "      <td>3.076533</td>\n",
       "      <td>1.088586</td>\n",
       "      <td>12.867657</td>\n",
       "      <td>1.815177</td>\n",
       "      <td>13.476962</td>\n",
       "    </tr>\n",
       "    <tr>\n",
       "      <th>min</th>\n",
       "      <td>0.000000</td>\n",
       "      <td>1.000000</td>\n",
       "      <td>118.000000</td>\n",
       "      <td>5.000000</td>\n",
       "      <td>1.000000</td>\n",
       "      <td>27.000000</td>\n",
       "      <td>205917.000000</td>\n",
       "      <td>87.000000</td>\n",
       "      <td>0.000000</td>\n",
       "      <td>56.000000</td>\n",
       "      <td>165.000000</td>\n",
       "      <td>0.000000</td>\n",
       "    </tr>\n",
       "    <tr>\n",
       "      <th>25%</th>\n",
       "      <td>13.000000</td>\n",
       "      <td>2.000000</td>\n",
       "      <td>179.000000</td>\n",
       "      <td>16.000000</td>\n",
       "      <td>9.000000</td>\n",
       "      <td>31.000000</td>\n",
       "      <td>244387.000000</td>\n",
       "      <td>93.000000</td>\n",
       "      <td>0.000000</td>\n",
       "      <td>69.000000</td>\n",
       "      <td>169.000000</td>\n",
       "      <td>2.000000</td>\n",
       "    </tr>\n",
       "    <tr>\n",
       "      <th>50%</th>\n",
       "      <td>23.000000</td>\n",
       "      <td>3.000000</td>\n",
       "      <td>225.000000</td>\n",
       "      <td>26.000000</td>\n",
       "      <td>13.000000</td>\n",
       "      <td>37.000000</td>\n",
       "      <td>264249.000000</td>\n",
       "      <td>95.000000</td>\n",
       "      <td>1.000000</td>\n",
       "      <td>83.000000</td>\n",
       "      <td>170.000000</td>\n",
       "      <td>3.000000</td>\n",
       "    </tr>\n",
       "    <tr>\n",
       "      <th>75%</th>\n",
       "      <td>26.750000</td>\n",
       "      <td>4.000000</td>\n",
       "      <td>260.000000</td>\n",
       "      <td>50.000000</td>\n",
       "      <td>16.000000</td>\n",
       "      <td>40.000000</td>\n",
       "      <td>284853.000000</td>\n",
       "      <td>97.000000</td>\n",
       "      <td>2.000000</td>\n",
       "      <td>89.000000</td>\n",
       "      <td>171.941148</td>\n",
       "      <td>8.000000</td>\n",
       "    </tr>\n",
       "    <tr>\n",
       "      <th>max</th>\n",
       "      <td>28.000000</td>\n",
       "      <td>4.000000</td>\n",
       "      <td>378.000000</td>\n",
       "      <td>52.000000</td>\n",
       "      <td>24.000000</td>\n",
       "      <td>53.000000</td>\n",
       "      <td>343253.000000</td>\n",
       "      <td>100.000000</td>\n",
       "      <td>4.000000</td>\n",
       "      <td>108.000000</td>\n",
       "      <td>175.000000</td>\n",
       "      <td>120.000000</td>\n",
       "    </tr>\n",
       "  </tbody>\n",
       "</table>\n",
       "</div>"
      ],
      "text/plain": [
       "       reason_for_absence     seasons  transportation_expense  \\\n",
       "count          718.000000  718.000000              718.000000   \n",
       "mean            19.418432    2.532033              219.943156   \n",
       "std              8.288079    1.105813               65.210423   \n",
       "min              0.000000    1.000000              118.000000   \n",
       "25%             13.000000    2.000000              179.000000   \n",
       "50%             23.000000    3.000000              225.000000   \n",
       "75%             26.750000    4.000000              260.000000   \n",
       "max             28.000000    4.000000              378.000000   \n",
       "\n",
       "       distance_from_residence_to_work  service_time         age  \\\n",
       "count                       718.000000    718.000000  718.000000   \n",
       "mean                         29.577747     12.472405   36.189851   \n",
       "std                          14.787993      4.149299    6.077329   \n",
       "min                           5.000000      1.000000   27.000000   \n",
       "25%                          16.000000      9.000000   31.000000   \n",
       "50%                          26.000000     13.000000   37.000000   \n",
       "75%                          50.000000     16.000000   40.000000   \n",
       "max                          52.000000     24.000000   53.000000   \n",
       "\n",
       "       work_load_average_per_day  hit_target         son      weight  \\\n",
       "count                 718.000000  718.000000  718.000000  718.000000   \n",
       "mean               267165.046587   94.940186    1.011083   79.059889   \n",
       "std                 32252.992788    3.076533    1.088586   12.867657   \n",
       "min                205917.000000   87.000000    0.000000   56.000000   \n",
       "25%                244387.000000   93.000000    0.000000   69.000000   \n",
       "50%                264249.000000   95.000000    1.000000   83.000000   \n",
       "75%                284853.000000   97.000000    2.000000   89.000000   \n",
       "max                343253.000000  100.000000    4.000000  108.000000   \n",
       "\n",
       "           height  absenteeism_time_in_hours  \n",
       "count  718.000000                 718.000000  \n",
       "mean   170.172181                   6.977716  \n",
       "std      1.815177                  13.476962  \n",
       "min    165.000000                   0.000000  \n",
       "25%    169.000000                   2.000000  \n",
       "50%    170.000000                   3.000000  \n",
       "75%    171.941148                   8.000000  \n",
       "max    175.000000                 120.000000  "
      ]
     },
     "execution_count": 85,
     "metadata": {},
     "output_type": "execute_result"
    }
   ],
   "source": [
    "df.describe()"
   ]
  },
  {
   "cell_type": "markdown",
   "metadata": {},
   "source": [
    "# Feature Engineering "
   ]
  },
  {
   "cell_type": "code",
   "execution_count": 86,
   "metadata": {},
   "outputs": [
    {
     "data": {
      "text/plain": [
       "count    718.000000\n",
       "mean       6.977716\n",
       "std       13.476962\n",
       "min        0.000000\n",
       "25%        2.000000\n",
       "50%        3.000000\n",
       "75%        8.000000\n",
       "max      120.000000\n",
       "Name: absenteeism_time_in_hours, dtype: float64"
      ]
     },
     "execution_count": 86,
     "metadata": {},
     "output_type": "execute_result"
    }
   ],
   "source": [
    "df['absenteeism_time_in_hours'].describe()"
   ]
  },
  {
   "cell_type": "code",
   "execution_count": 87,
   "metadata": {},
   "outputs": [],
   "source": [
    "df['absenteeism_class'] = pd.cut(df['absenteeism_time_in_hours'],\\\n",
    "                                 bins=[1,2,6,121], labels=['CLASS1','CLASS2','CLASS3'])"
   ]
  },
  {
   "cell_type": "code",
   "execution_count": 88,
   "metadata": {},
   "outputs": [
    {
     "data": {
      "text/plain": [
       "CLASS3    262\n",
       "CLASS2    177\n",
       "CLASS1    155\n",
       "Name: absenteeism_class, dtype: int64"
      ]
     },
     "execution_count": 88,
     "metadata": {},
     "output_type": "execute_result"
    }
   ],
   "source": [
    "df['absenteeism_class'].value_counts()"
   ]
  },
  {
   "cell_type": "code",
   "execution_count": 89,
   "metadata": {},
   "outputs": [],
   "source": [
    "df['absenteeism_class'] = df['absenteeism_class'].replace(np.nan, 'CLASS1')"
   ]
  },
  {
   "cell_type": "code",
   "execution_count": 90,
   "metadata": {},
   "outputs": [],
   "source": [
    "absent_class_frequency = df['absenteeism_class'].value_counts()"
   ]
  },
  {
   "cell_type": "code",
   "execution_count": 91,
   "metadata": {},
   "outputs": [
    {
     "data": {
      "text/plain": [
       "CLASS1    279\n",
       "CLASS3    262\n",
       "CLASS2    177\n",
       "Name: absenteeism_class, dtype: int64"
      ]
     },
     "execution_count": 91,
     "metadata": {},
     "output_type": "execute_result"
    }
   ],
   "source": [
    "absent_class_frequency "
   ]
  },
  {
   "cell_type": "code",
   "execution_count": 92,
   "metadata": {},
   "outputs": [],
   "source": [
    "absent_class = df['absenteeism_class'].unique()"
   ]
  },
  {
   "cell_type": "code",
   "execution_count": 93,
   "metadata": {},
   "outputs": [
    {
     "data": {
      "text/plain": [
       "Text(0.5, 1.0, 'barplot of absent class')"
      ]
     },
     "execution_count": 93,
     "metadata": {},
     "output_type": "execute_result"
    },
    {
     "data": {
      "image/png": "[encoded data removed]",
      "text/plain": [
       "<Figure size 288x432 with 1 Axes>"
      ]
     },
     "metadata": {
      "needs_background": "light"
     },
     "output_type": "display_data"
    }
   ],
   "source": [
    "f, ax = plt.subplots(figsize=(4,6))\n",
    "sns.barplot(x=absent_class_frequency.index, y=absent_class_frequency)\n",
    "plt.xlabel('Absent class', fontsize=15)\n",
    "plt.ylabel('Count of Absent class', fontsize=15)\n",
    "plt.title('barplot of absent class', fontsize=15)"
   ]
  },
  {
   "cell_type": "code",
   "execution_count": 94,
   "metadata": {},
   "outputs": [
    {
     "data": {
      "text/plain": [
       "CLASS1    279\n",
       "CLASS3    262\n",
       "CLASS2    177\n",
       "Name: absenteeism_class, dtype: int64"
      ]
     },
     "execution_count": 94,
     "metadata": {},
     "output_type": "execute_result"
    }
   ],
   "source": [
    "absent_class_frequency"
   ]
  },
  {
   "cell_type": "code",
   "execution_count": 95,
   "metadata": {
    "scrolled": true
   },
   "outputs": [
    {
     "data": {
      "text/html": [
       "<div>\n",
       "<style scoped>\n",
       "    .dataframe tbody tr th:only-of-type {\n",
       "        vertical-align: middle;\n",
       "    }\n",
       "\n",
       "    .dataframe tbody tr th {\n",
       "        vertical-align: top;\n",
       "    }\n",
       "\n",
       "    .dataframe thead th {\n",
       "        text-align: right;\n",
       "    }\n",
       "</style>\n",
       "<table border=\"1\" class=\"dataframe\">\n",
       "  <thead>\n",
       "    <tr style=\"text-align: right;\">\n",
       "      <th></th>\n",
       "      <th>absenteeism_time_in_hours</th>\n",
       "      <th>absenteeism_class</th>\n",
       "    </tr>\n",
       "  </thead>\n",
       "  <tbody>\n",
       "    <tr>\n",
       "      <th>0</th>\n",
       "      <td>4.0</td>\n",
       "      <td>CLASS2</td>\n",
       "    </tr>\n",
       "    <tr>\n",
       "      <th>1</th>\n",
       "      <td>0.0</td>\n",
       "      <td>CLASS1</td>\n",
       "    </tr>\n",
       "    <tr>\n",
       "      <th>2</th>\n",
       "      <td>2.0</td>\n",
       "      <td>CLASS1</td>\n",
       "    </tr>\n",
       "    <tr>\n",
       "      <th>3</th>\n",
       "      <td>4.0</td>\n",
       "      <td>CLASS2</td>\n",
       "    </tr>\n",
       "    <tr>\n",
       "      <th>4</th>\n",
       "      <td>2.0</td>\n",
       "      <td>CLASS1</td>\n",
       "    </tr>\n",
       "  </tbody>\n",
       "</table>\n",
       "</div>"
      ],
      "text/plain": [
       "   absenteeism_time_in_hours absenteeism_class\n",
       "0                        4.0            CLASS2\n",
       "1                        0.0            CLASS1\n",
       "2                        2.0            CLASS1\n",
       "3                        4.0            CLASS2\n",
       "4                        2.0            CLASS1"
      ]
     },
     "execution_count": 95,
     "metadata": {},
     "output_type": "execute_result"
    }
   ],
   "source": [
    "df[['absenteeism_time_in_hours','absenteeism_class']].head()"
   ]
  },
  {
   "cell_type": "code",
   "execution_count": 96,
   "metadata": {},
   "outputs": [
    {
     "data": {
      "text/html": [
       "<div>\n",
       "<style scoped>\n",
       "    .dataframe tbody tr th:only-of-type {\n",
       "        vertical-align: middle;\n",
       "    }\n",
       "\n",
       "    .dataframe tbody tr th {\n",
       "        vertical-align: top;\n",
       "    }\n",
       "\n",
       "    .dataframe thead th {\n",
       "        text-align: right;\n",
       "    }\n",
       "</style>\n",
       "<table border=\"1\" class=\"dataframe\">\n",
       "  <thead>\n",
       "    <tr style=\"text-align: right;\">\n",
       "      <th></th>\n",
       "      <th>absenteeism_time_in_hours</th>\n",
       "      <th>absenteeism_class</th>\n",
       "    </tr>\n",
       "  </thead>\n",
       "  <tbody>\n",
       "    <tr>\n",
       "      <th>713</th>\n",
       "      <td>8.0</td>\n",
       "      <td>CLASS3</td>\n",
       "    </tr>\n",
       "    <tr>\n",
       "      <th>714</th>\n",
       "      <td>4.0</td>\n",
       "      <td>CLASS2</td>\n",
       "    </tr>\n",
       "    <tr>\n",
       "      <th>715</th>\n",
       "      <td>0.0</td>\n",
       "      <td>CLASS1</td>\n",
       "    </tr>\n",
       "    <tr>\n",
       "      <th>716</th>\n",
       "      <td>0.0</td>\n",
       "      <td>CLASS1</td>\n",
       "    </tr>\n",
       "    <tr>\n",
       "      <th>717</th>\n",
       "      <td>0.0</td>\n",
       "      <td>CLASS1</td>\n",
       "    </tr>\n",
       "  </tbody>\n",
       "</table>\n",
       "</div>"
      ],
      "text/plain": [
       "     absenteeism_time_in_hours absenteeism_class\n",
       "713                        8.0            CLASS3\n",
       "714                        4.0            CLASS2\n",
       "715                        0.0            CLASS1\n",
       "716                        0.0            CLASS1\n",
       "717                        0.0            CLASS1"
      ]
     },
     "execution_count": 96,
     "metadata": {},
     "output_type": "execute_result"
    }
   ],
   "source": [
    "df[['absenteeism_time_in_hours','absenteeism_class']].tail()"
   ]
  },
  {
   "cell_type": "code",
   "execution_count": 97,
   "metadata": {},
   "outputs": [],
   "source": [
    "df =  df.drop(columns='absenteeism_time_in_hours', axis=1)"
   ]
  },
  {
   "cell_type": "code",
   "execution_count": 98,
   "metadata": {},
   "outputs": [],
   "source": [
    "cleanup_class = {\"absenteeism_class\":     {\"CLASS1\": 1, \"CLASS2\": 2,\"CLASS3\": 3}}\n",
    "df.replace(cleanup_class, inplace=True)"
   ]
  },
  {
   "cell_type": "code",
   "execution_count": 99,
   "metadata": {},
   "outputs": [
    {
     "name": "stdout",
     "output_type": "stream",
     "text": [
      "<class 'pandas.core.frame.DataFrame'>\n",
      "RangeIndex: 718 entries, 0 to 717\n",
      "Data columns (total 12 columns):\n",
      "reason_for_absence                 718 non-null float64\n",
      "seasons                            718 non-null float64\n",
      "transportation_expense             718 non-null float64\n",
      "distance_from_residence_to_work    718 non-null float64\n",
      "service_time                       718 non-null float64\n",
      "age                                718 non-null float64\n",
      "work_load_average_per_day          718 non-null float64\n",
      "hit_target                         718 non-null float64\n",
      "son                                718 non-null float64\n",
      "weight                             718 non-null float64\n",
      "height                             718 non-null float64\n",
      "absenteeism_class                  718 non-null int64\n",
      "dtypes: float64(11), int64(1)\n",
      "memory usage: 67.4 KB\n"
     ]
    }
   ],
   "source": [
    "df.info()"
   ]
  },
  {
   "cell_type": "code",
   "execution_count": 100,
   "metadata": {},
   "outputs": [
    {
     "data": {
      "text/plain": [
       "reason_for_absence                 False\n",
       "seasons                            False\n",
       "transportation_expense             False\n",
       "distance_from_residence_to_work    False\n",
       "service_time                       False\n",
       "age                                False\n",
       "work_load_average_per_day          False\n",
       "hit_target                         False\n",
       "son                                False\n",
       "weight                             False\n",
       "height                             False\n",
       "absenteeism_class                  False\n",
       "dtype: bool"
      ]
     },
     "execution_count": 100,
     "metadata": {},
     "output_type": "execute_result"
    }
   ],
   "source": [
    "df.isnull().any()"
   ]
  },
  {
   "cell_type": "code",
   "execution_count": 101,
   "metadata": {},
   "outputs": [],
   "source": [
    "df['absenteeism_class'] = df['absenteeism_class'].astype('float')"
   ]
  },
  {
   "cell_type": "code",
   "execution_count": 102,
   "metadata": {},
   "outputs": [
    {
     "name": "stdout",
     "output_type": "stream",
     "text": [
      "<class 'pandas.core.frame.DataFrame'>\n",
      "RangeIndex: 718 entries, 0 to 717\n",
      "Data columns (total 12 columns):\n",
      "reason_for_absence                 718 non-null float64\n",
      "seasons                            718 non-null float64\n",
      "transportation_expense             718 non-null float64\n",
      "distance_from_residence_to_work    718 non-null float64\n",
      "service_time                       718 non-null float64\n",
      "age                                718 non-null float64\n",
      "work_load_average_per_day          718 non-null float64\n",
      "hit_target                         718 non-null float64\n",
      "son                                718 non-null float64\n",
      "weight                             718 non-null float64\n",
      "height                             718 non-null float64\n",
      "absenteeism_class                  718 non-null float64\n",
      "dtypes: float64(12)\n",
      "memory usage: 67.4 KB\n"
     ]
    }
   ],
   "source": [
    "df.info()"
   ]
  },
  {
   "cell_type": "code",
   "execution_count": 103,
   "metadata": {},
   "outputs": [
    {
     "data": {
      "text/plain": [
       "reason_for_absence                 False\n",
       "seasons                            False\n",
       "transportation_expense             False\n",
       "distance_from_residence_to_work    False\n",
       "service_time                       False\n",
       "age                                False\n",
       "work_load_average_per_day          False\n",
       "hit_target                         False\n",
       "son                                False\n",
       "weight                             False\n",
       "height                             False\n",
       "absenteeism_class                  False\n",
       "dtype: bool"
      ]
     },
     "execution_count": 103,
     "metadata": {},
     "output_type": "execute_result"
    }
   ],
   "source": [
    "df.isnull().any()"
   ]
  },
  {
   "cell_type": "markdown",
   "metadata": {},
   "source": [
    "# Feature Scaling "
   ]
  },
  {
   "cell_type": "code",
   "execution_count": 104,
   "metadata": {},
   "outputs": [],
   "source": [
    "continuous_var = ['transportation_expense','distance_from_residence_to_work', 'service_time', 'age',\\\n",
    "                  'work_load_average_per_day', 'hit_target','weight', 'height']"
   ]
  },
  {
   "cell_type": "code",
   "execution_count": 105,
   "metadata": {},
   "outputs": [],
   "source": [
    "# Since there is no normally distributed curve we will use Normalizationg for Feature Scalling\n",
    "# #Normalization\n",
    "for i in continuous_var:\n",
    "    df[i] = (df[i] - df[i].min())/(df[i].max()-df[i].min())"
   ]
  },
  {
   "cell_type": "code",
   "execution_count": 106,
   "metadata": {},
   "outputs": [
    {
     "data": {
      "text/html": [
       "<div>\n",
       "<style scoped>\n",
       "    .dataframe tbody tr th:only-of-type {\n",
       "        vertical-align: middle;\n",
       "    }\n",
       "\n",
       "    .dataframe tbody tr th {\n",
       "        vertical-align: top;\n",
       "    }\n",
       "\n",
       "    .dataframe thead th {\n",
       "        text-align: right;\n",
       "    }\n",
       "</style>\n",
       "<table border=\"1\" class=\"dataframe\">\n",
       "  <thead>\n",
       "    <tr style=\"text-align: right;\">\n",
       "      <th></th>\n",
       "      <th>reason_for_absence</th>\n",
       "      <th>seasons</th>\n",
       "      <th>transportation_expense</th>\n",
       "      <th>distance_from_residence_to_work</th>\n",
       "      <th>service_time</th>\n",
       "      <th>age</th>\n",
       "      <th>work_load_average_per_day</th>\n",
       "      <th>hit_target</th>\n",
       "      <th>son</th>\n",
       "      <th>weight</th>\n",
       "      <th>height</th>\n",
       "      <th>absenteeism_class</th>\n",
       "    </tr>\n",
       "  </thead>\n",
       "  <tbody>\n",
       "    <tr>\n",
       "      <th>0</th>\n",
       "      <td>26.0</td>\n",
       "      <td>1.0</td>\n",
       "      <td>0.657692</td>\n",
       "      <td>0.659574</td>\n",
       "      <td>0.521739</td>\n",
       "      <td>0.230769</td>\n",
       "      <td>0.244925</td>\n",
       "      <td>0.769231</td>\n",
       "      <td>2.0</td>\n",
       "      <td>0.653846</td>\n",
       "      <td>0.700000</td>\n",
       "      <td>2.0</td>\n",
       "    </tr>\n",
       "    <tr>\n",
       "      <th>1</th>\n",
       "      <td>0.0</td>\n",
       "      <td>1.0</td>\n",
       "      <td>0.000000</td>\n",
       "      <td>0.170213</td>\n",
       "      <td>0.739130</td>\n",
       "      <td>0.884615</td>\n",
       "      <td>0.244925</td>\n",
       "      <td>0.769231</td>\n",
       "      <td>1.0</td>\n",
       "      <td>0.807692</td>\n",
       "      <td>0.500001</td>\n",
       "      <td>1.0</td>\n",
       "    </tr>\n",
       "    <tr>\n",
       "      <th>2</th>\n",
       "      <td>23.0</td>\n",
       "      <td>1.0</td>\n",
       "      <td>0.234615</td>\n",
       "      <td>0.978723</td>\n",
       "      <td>0.739130</td>\n",
       "      <td>0.423077</td>\n",
       "      <td>0.244925</td>\n",
       "      <td>0.769231</td>\n",
       "      <td>0.0</td>\n",
       "      <td>0.634615</td>\n",
       "      <td>0.500000</td>\n",
       "      <td>1.0</td>\n",
       "    </tr>\n",
       "    <tr>\n",
       "      <th>3</th>\n",
       "      <td>7.0</td>\n",
       "      <td>1.0</td>\n",
       "      <td>0.619231</td>\n",
       "      <td>0.000000</td>\n",
       "      <td>0.565217</td>\n",
       "      <td>0.461538</td>\n",
       "      <td>0.244925</td>\n",
       "      <td>0.769231</td>\n",
       "      <td>2.0</td>\n",
       "      <td>0.230769</td>\n",
       "      <td>0.300000</td>\n",
       "      <td>2.0</td>\n",
       "    </tr>\n",
       "    <tr>\n",
       "      <th>4</th>\n",
       "      <td>23.0</td>\n",
       "      <td>1.0</td>\n",
       "      <td>0.657692</td>\n",
       "      <td>0.659574</td>\n",
       "      <td>0.521739</td>\n",
       "      <td>0.230769</td>\n",
       "      <td>0.244925</td>\n",
       "      <td>0.769231</td>\n",
       "      <td>2.0</td>\n",
       "      <td>0.653846</td>\n",
       "      <td>0.700000</td>\n",
       "      <td>1.0</td>\n",
       "    </tr>\n",
       "  </tbody>\n",
       "</table>\n",
       "</div>"
      ],
      "text/plain": [
       "   reason_for_absence  seasons  transportation_expense  \\\n",
       "0                26.0      1.0                0.657692   \n",
       "1                 0.0      1.0                0.000000   \n",
       "2                23.0      1.0                0.234615   \n",
       "3                 7.0      1.0                0.619231   \n",
       "4                23.0      1.0                0.657692   \n",
       "\n",
       "   distance_from_residence_to_work  service_time       age  \\\n",
       "0                         0.659574      0.521739  0.230769   \n",
       "1                         0.170213      0.739130  0.884615   \n",
       "2                         0.978723      0.739130  0.423077   \n",
       "3                         0.000000      0.565217  0.461538   \n",
       "4                         0.659574      0.521739  0.230769   \n",
       "\n",
       "   work_load_average_per_day  hit_target  son    weight    height  \\\n",
       "0                   0.244925    0.769231  2.0  0.653846  0.700000   \n",
       "1                   0.244925    0.769231  1.0  0.807692  0.500001   \n",
       "2                   0.244925    0.769231  0.0  0.634615  0.500000   \n",
       "3                   0.244925    0.769231  2.0  0.230769  0.300000   \n",
       "4                   0.244925    0.769231  2.0  0.653846  0.700000   \n",
       "\n",
       "   absenteeism_class  \n",
       "0                2.0  \n",
       "1                1.0  \n",
       "2                1.0  \n",
       "3                2.0  \n",
       "4                1.0  "
      ]
     },
     "execution_count": 106,
     "metadata": {},
     "output_type": "execute_result"
    }
   ],
   "source": [
    "df.head()"
   ]
  },
  {
   "cell_type": "code",
   "execution_count": 107,
   "metadata": {},
   "outputs": [
    {
     "data": {
      "text/plain": [
       "(array([1., 2., 3.]), array([279, 177, 262], dtype=int64))"
      ]
     },
     "execution_count": 107,
     "metadata": {},
     "output_type": "execute_result"
    }
   ],
   "source": [
    "np.unique(df['absenteeism_class'],return_counts='True')"
   ]
  },
  {
   "cell_type": "markdown",
   "metadata": {},
   "source": [
    "# Evaluation Metrics for classification problems"
   ]
  },
  {
   "cell_type": "markdown",
   "metadata": {},
   "source": [
    "# balanced_accuracy_score: The balanced accuracy in binary and multiclass classification problems to deal with imbalanced datasets.\n",
    "It is defined as the average of recall obtained on each class.\n",
    "The best value is 1 and the worst value is 0 when adjusted=False.\n",
    "\n",
    "# roc_curve: Compute Receiver operating characteristic (ROC)\n",
    "Note: this implementation is restricted to the binary classification task.\n",
    "sklearn.metrics.roc_curve(y_true, y_score, pos_label=None, sample_weight=None, drop_intermediate=True)\n",
    "\n",
    "# Log-Loss : Logarithmic loss\n",
    "It measures the performance of a classification model where the prediction input is a probability value between 0 and 1. The goal of our machine learning models is to minimize this value. A perfect model would have a log loss of 0. #  Logarithmic loss measures the performance of a classification model where the prediction input is a probability value between 0 and 1. The goal of our machine learning models is to minimize this value. A perfect model would have a log loss of 0. Log loss increases as the predicted probability diverges from the actual label.\n"
   ]
  },
  {
   "cell_type": "code",
   "execution_count": 108,
   "metadata": {},
   "outputs": [],
   "source": [
    "def print_error_metrics(y1,y2):\n",
    "    #df_confusion = pd.crosstab(y1,y2,rownames=['Actual'], colnames=['Predicted'], margins=True)\n",
    "    #plot_confusion_matrix(df_confusion)\n",
    "    print(\"accuracy score : %.3f\" % accuracy_score(y1,y2))\n",
    "    #print(\"balanced accuracy score : %.3f\" % balanced_accuracy_score(y1,y2))\n",
    "#     confusion_matrix(y_test, y_pred,labels=np.unique(y1))\n",
    "#     print(confusion_matrix)\n",
    "    return None"
   ]
  },
  {
   "cell_type": "code",
   "execution_count": 109,
   "metadata": {},
   "outputs": [
    {
     "ename": "NameError",
     "evalue": "name 'train_test_split' is not defined",
     "output_type": "error",
     "traceback": [
      "\u001b[1;31m---------------------------------------------------------------------------\u001b[0m",
      "\u001b[1;31mNameError\u001b[0m                                 Traceback (most recent call last)",
      "\u001b[1;32m<ipython-input-109-2d26ef9a3333>\u001b[0m in \u001b[0;36m<module>\u001b[1;34m\u001b[0m\n\u001b[0;32m      1\u001b[0m \u001b[0mX\u001b[0m\u001b[1;33m=\u001b[0m \u001b[0mdf\u001b[0m\u001b[1;33m.\u001b[0m\u001b[0mdrop\u001b[0m\u001b[1;33m(\u001b[0m\u001b[0mcolumns\u001b[0m\u001b[1;33m=\u001b[0m\u001b[1;33m[\u001b[0m\u001b[1;34m'absenteeism_class'\u001b[0m\u001b[1;33m]\u001b[0m\u001b[1;33m)\u001b[0m\u001b[1;33m\u001b[0m\u001b[1;33m\u001b[0m\u001b[0m\n\u001b[0;32m      2\u001b[0m \u001b[0my\u001b[0m\u001b[1;33m=\u001b[0m \u001b[0mdf\u001b[0m\u001b[1;33m[\u001b[0m\u001b[1;34m'absenteeism_class'\u001b[0m\u001b[1;33m]\u001b[0m\u001b[1;33m\u001b[0m\u001b[1;33m\u001b[0m\u001b[0m\n\u001b[1;32m----> 3\u001b[1;33m \u001b[0mX_train\u001b[0m\u001b[1;33m,\u001b[0m \u001b[0mX_test\u001b[0m\u001b[1;33m,\u001b[0m \u001b[0my_train\u001b[0m\u001b[1;33m,\u001b[0m \u001b[0my_test\u001b[0m \u001b[1;33m=\u001b[0m \u001b[0mtrain_test_split\u001b[0m\u001b[1;33m(\u001b[0m \u001b[0mX\u001b[0m\u001b[1;33m,\u001b[0m \u001b[0my\u001b[0m\u001b[1;33m,\u001b[0m \u001b[0mtest_size\u001b[0m \u001b[1;33m=\u001b[0m \u001b[1;36m0.2\u001b[0m\u001b[1;33m)\u001b[0m\u001b[1;33m\u001b[0m\u001b[1;33m\u001b[0m\u001b[0m\n\u001b[0m",
      "\u001b[1;31mNameError\u001b[0m: name 'train_test_split' is not defined"
     ]
    }
   ],
   "source": [
    "X= df.drop(columns=['absenteeism_class'])\n",
    "y= df['absenteeism_class']\n",
    "X_train, X_test, y_train, y_test = train_test_split( X, y, test_size = 0.2)"
   ]
  },
  {
   "cell_type": "markdown",
   "metadata": {},
   "source": [
    "# Logistic Regression "
   ]
  },
  {
   "cell_type": "code",
   "execution_count": null,
   "metadata": {},
   "outputs": [],
   "source": [
    "from sklearn.linear_model import LogisticRegression\n",
    "lr_clf = LogisticRegression(solver='lbfgs',multi_class='auto')\n",
    "lr_clf.fit(X_train, y_train)\n",
    "y_pred_test = lr_clf.predict_proba(X_test)\n",
    "y_pred_train = lr_clf.predict_proba(X_train)\n",
    "y_pred = lr_clf.predict(X_test)\n",
    "\n",
    "print(\"\\n\")\n",
    "print(\"Logistic Regression Model Train log loss : %.3f\" % log_loss(y_train.astype(float), y_pred_train)) \n",
    "print(\"Logistic Regression Model Test log loss : %.3f\" % log_loss(y_test.astype(float), y_pred_test)) \n",
    "print_error_metrics(y_test,y_pred)\n",
    "\n",
    "\n",
    "df_matrix = confusion_matrix(y_test, y_pred,labels=np.unique(y_test))\n",
    "print(\"\\nconfusion_matrix:\")\n",
    "print(df_matrix)\n",
    "\n",
    "from sklearn.metrics import classification_report\n",
    "target_names = ['CLASS1', 'CLASS2','CLASS3']\n",
    "labels = [1,2,3]\n",
    "\n",
    "print(\"\\nclassification_report:>\\n\")\n",
    "print(classification_report(y_test, y_pred,labels=labels, target_names=target_names))"
   ]
  },
  {
   "cell_type": "code",
   "execution_count": null,
   "metadata": {},
   "outputs": [],
   "source": [
    "from yellowbrick.classifier import ROCAUC\n",
    "# Instantiate the visualizer with the classification model\n",
    "visualizer = ROCAUC(lr_clf, classes=['1','2','3'])\n",
    "\n",
    "visualizer.fit(X_train, y_train)  # Fit the training data to the visualizer\n",
    "visualizer.score(X_test, y_test)  # Evaluate the model on the test data\n",
    "g = visualizer.poof()             # Draw/show/poof the data"
   ]
  },
  {
   "cell_type": "code",
   "execution_count": null,
   "metadata": {},
   "outputs": [],
   "source": [
    "#  log_loss is very high and AUC is low. Lets explore other models"
   ]
  },
  {
   "cell_type": "markdown",
   "metadata": {},
   "source": [
    "# Naive Bayes"
   ]
  },
  {
   "cell_type": "code",
   "execution_count": null,
   "metadata": {},
   "outputs": [],
   "source": [
    "from sklearn.naive_bayes import GaussianNB\n",
    "NB_model = GaussianNB()\n",
    "NB_model.fit(X_train, y_train)\n",
    "y_pred_test = NB_model.predict_proba(X_test)\n",
    "y_pred_train = NB_model.predict_proba(X_train)\n",
    "y_pred = NB_model.predict(X_test)\n",
    "\n",
    "print(\"\\n\")\n",
    "print(\"NB Model Train log loss : %.3f\" % log_loss(y_train.astype(float), y_pred_train)) \n",
    "print(\"NB Model Test log loss : %.3f\" % log_loss(y_test.astype(float), y_pred_test)) \n",
    "print(\"\\n\")\n",
    "\n",
    "print_error_metrics(y_test,y_pred)\n",
    "df_matrix = confusion_matrix(y_test, y_pred,labels=np.unique(y_test))\n",
    "print(\"\\nconfusion_matrix:\")\n",
    "print(df_matrix)\n",
    "\n",
    "from sklearn.metrics import classification_report\n",
    "target_names = ['CLASS1', 'CLASS2','CLASS3']\n",
    "labels = [1,2,3]\n",
    "\n",
    "print(\"\\nclassification_report:>\\n\")\n",
    "print(classification_report(y_test, y_pred,labels=labels, target_names=target_names))"
   ]
  },
  {
   "cell_type": "code",
   "execution_count": null,
   "metadata": {},
   "outputs": [],
   "source": [
    "from yellowbrick.classifier import ROCAUC\n",
    "# Instantiate the visualizer with the classification model\n",
    "visualizer = ROCAUC(GaussianNB(), classes=['1','2','3'])\n",
    "\n",
    "visualizer.fit(X_train, y_train)  # Fit the training data to the visualizer\n",
    "visualizer.score(X_test, y_test)  # Evaluate the model on the test data\n",
    "g = visualizer.poof()             # Draw/show/poof the data"
   ]
  },
  {
   "cell_type": "markdown",
   "metadata": {},
   "source": [
    "# DecisionTreeClassifier"
   ]
  },
  {
   "cell_type": "code",
   "execution_count": null,
   "metadata": {},
   "outputs": [],
   "source": [
    "from sklearn.tree import DecisionTreeClassifier\n",
    "from mlxtend.plotting import plot_decision_regions\n",
    "from sklearn.tree import export_graphviz\n",
    "\n",
    "dt_clf = DecisionTreeClassifier(max_depth=3, random_state=2)\n",
    "dt_clf.fit(X_train, y_train)\n",
    "\n",
    "X_combined = np.vstack((X_train, X_test))\n",
    "y_combined = np.hstack((y_train, y_test))\n",
    "\n",
    "# plot_decision_regions(X_combined, y_combined, clf=dt_clf)\n",
    "# plt.show()\n",
    "\n",
    "y_pred_test = dt_clf.predict_proba(X_test)\n",
    "y_pred_train = dt_clf.predict_proba(X_train)\n",
    "\n",
    "y_pred = dt_clf.predict(X_test)\n",
    "\n",
    "print(\"DT Model Train log loss : %.3f\" % log_loss(y_train.astype(float), y_pred_train)) \n",
    "print(\"DT Model Test log loss : %.3f\" % log_loss(y_test.astype(float), y_pred_test)) \n",
    "print(\"\\n\")\n",
    "\n",
    "export_graphviz(dt_clf,out_file='tree.dot',feature_names=X_test.columns)\n",
    "\n",
    "print_error_metrics(y_test,y_pred)\n",
    "\n",
    "df_matrix = confusion_matrix(y_test, y_pred,labels=np.unique(y_test))\n",
    "print(\"\\nconfusion_matrix:\")\n",
    "print(df_matrix)\n",
    "\n",
    "from sklearn.metrics import classification_report\n",
    "target_names = ['CLASS1', 'CLASS2','CLASS3']\n",
    "labels = [1,2,3]\n",
    "\n",
    "print(\"\\nclassification_report:>\\n\")\n",
    "print(classification_report(y_test, y_pred,labels=labels, target_names=target_names))"
   ]
  },
  {
   "cell_type": "code",
   "execution_count": null,
   "metadata": {},
   "outputs": [],
   "source": [
    "from yellowbrick.classifier import ROCAUC\n",
    "# Instantiate the visualizer with the classification model\n",
    "visualizer = ROCAUC(dt_clf, classes=['1','2','3'])\n",
    "\n",
    "visualizer.fit(X_train, y_train)  # Fit the training data to the visualizer\n",
    "visualizer.score(X_test, y_test)  # Evaluate the model on the test data\n",
    "g = visualizer.poof()             # Draw/show/poof the data"
   ]
  },
  {
   "cell_type": "markdown",
   "metadata": {},
   "source": [
    "# RandomForestClassifier"
   ]
  },
  {
   "cell_type": "code",
   "execution_count": null,
   "metadata": {},
   "outputs": [],
   "source": [
    "from sklearn.ensemble import RandomForestClassifier\n",
    "from pprint import pprint\n",
    "\n",
    "rf = RandomForestClassifier(n_estimators=100,random_state=42)\n",
    "# Look at parameters used by our current forest\n",
    "print('Hyper Parameters currently in use:\\n')\n",
    "pprint(rf.get_params())\n",
    "rf.fit(X_train, y_train.astype(float))\n",
    "# y_pred = rf.predict_proba(X_test)\n",
    "# print(\"\")\n",
    "# print(\"Base RF Model log loss : %.3f\" % log_loss(y_test, y_pred)) \n",
    "\n",
    "y_pred_test = rf.predict_proba(X_test)\n",
    "y_pred_train = rf.predict_proba(X_train)\n",
    "\n",
    "print(\"\\n\")\n",
    "\n",
    "print(\"Base RF Model Train log loss : %.3f\" % log_loss(y_train.astype(float), y_pred_train)) \n",
    "print(\"Base RF Model Test log loss : %.3f\" % log_loss(y_test.astype(float), y_pred_test)) \n",
    "\n",
    "print(\"\\n\")\n",
    "print_error_metrics(y_test,y_pred)\n",
    "\n",
    "df_matrix = confusion_matrix(y_test, y_pred,labels=np.unique(y_test))\n",
    "print(\"\\nconfusion_matrix:\")\n",
    "print(df_matrix)\n",
    "\n",
    "from sklearn.metrics import classification_report\n",
    "target_names = ['CLASS1', 'CLASS2','CLASS3']\n",
    "labels = [1,2,3]\n",
    "\n",
    "print(\"\\nclassification_report:>\\n\")\n",
    "print(classification_report(y_test, y_pred,labels=labels, target_names=target_names))"
   ]
  },
  {
   "cell_type": "code",
   "execution_count": null,
   "metadata": {},
   "outputs": [],
   "source": [
    "from yellowbrick.classifier import ROCAUC\n",
    "# Instantiate the visualizer with the classification model\n",
    "visualizer = ROCAUC(rf, classes=['1','2','3'])\n",
    "\n",
    "visualizer.fit(X_train, y_train)  # Fit the training data to the visualizer\n",
    "visualizer.score(X_test, y_test)  # Evaluate the model on the test data\n",
    "g = visualizer.poof()             # Draw/show/poof the data"
   ]
  },
  {
   "cell_type": "code",
   "execution_count": null,
   "metadata": {},
   "outputs": [],
   "source": [
    "importances=pd.Series(tuned_rf.feature_importances_, index=X_train.columns)\n",
    "importances.plot(kind='barh', figsize=(12,8))"
   ]
  },
  {
   "cell_type": "code",
   "execution_count": null,
   "metadata": {},
   "outputs": [],
   "source": [
    "# Reason_for_absence and trnasportation_expense are the important features "
   ]
  },
  {
   "cell_type": "code",
   "execution_count": null,
   "metadata": {},
   "outputs": [],
   "source": [
    "# random forest hyper parameter tuning\n",
    "from sklearn.model_selection import GridSearchCV\n",
    "from sklearn.ensemble import RandomForestClassifier\n",
    "from sklearn.pipeline import Pipeline\n",
    "from pprint import pprint\n",
    "\n",
    "# First create the base model to tune\n",
    "tuned_rf = RandomForestClassifier(random_state=42)\n",
    "\n",
    "# Number of trees in random forest\n",
    "n_estimators = [int(x) for x in np.linspace(start = 50, stop = 1000, num = 20)]\n",
    "# Number of features to consider at every split\n",
    "max_features = ['auto', 'sqrt']\n",
    "\n",
    "# Maximum number of levels in tree\n",
    "max_depth = [int(x) for x in np.linspace(1, 5, num = 5)]\n",
    "max_depth.append(None)\n",
    "\n",
    "# Create the random grid\n",
    "param_grid = {'n_estimators': n_estimators,\n",
    "'max_features': max_features,\n",
    "'max_depth': max_depth}\n",
    "\n",
    "pprint(param_grid)\n",
    "\n",
    "grid_search = GridSearchCV(tuned_rf, param_grid, cv=3, verbose=2, n_jobs = -1)\n",
    "\n",
    "# Fit the random search model\n",
    "grid_search.fit(X_train, y_train)\n",
    "\n",
    "print(grid_search.best_params_)\n"
   ]
  },
  {
   "cell_type": "code",
   "execution_count": null,
   "metadata": {},
   "outputs": [],
   "source": [
    "# using parameters optained using Hyperparametertuning in RF model"
   ]
  },
  {
   "cell_type": "code",
   "execution_count": null,
   "metadata": {},
   "outputs": [],
   "source": [
    "tuned_rf = RandomForestClassifier(bootstrap=True,max_depth=4,max_features ='auto',n_estimators =700, random_state=42)\n",
    "tuned_rf.fit(X_train, y_train)\n",
    "y_pred_test = tuned_rf.predict_proba(X_test)\n",
    "y_pred_train = tuned_rf.predict_proba(X_train)\n",
    "y_pred = tuned_rf.predict(X_test)\n",
    "\n",
    "print(\"Tuned RF Model Train log loss : %.3f\" % log_loss(y_train, y_pred_train)) \n",
    "print(\"Tuned RF Model Test log loss : %.3f\" % log_loss(y_test, y_pred_test)) \n",
    "print(\"\\n\")\n",
    "\n",
    "print_error_metrics(y_test,y_pred)\n",
    "df_matrix = confusion_matrix(y_test, y_pred,labels=np.unique(y_test))\n",
    "print(\"\\nconfusion_matrix:\")\n",
    "print(df_matrix)\n",
    "\n",
    "from sklearn.metrics import classification_report\n",
    "target_names = ['CLASS1', 'CLASS2','CLASS3']\n",
    "labels = [1,2,3]\n",
    "\n",
    "print(\"\\nclassification_report:>\\n\")\n",
    "print(classification_report(y_test, y_pred,labels=labels, target_names=target_names))"
   ]
  },
  {
   "cell_type": "code",
   "execution_count": null,
   "metadata": {},
   "outputs": [],
   "source": [
    "from yellowbrick.classifier import ROCAUC\n",
    "# Instantiate the visualizer with the classification model\n",
    "visualizer = ROCAUC(tuned_rf, classes=['1','2','3'])\n",
    "\n",
    "visualizer.fit(X_train, y_train)  # Fit the training data to the visualizer\n",
    "visualizer.score(X_test, y_test)  # Evaluate the model on the test data\n",
    "g = visualizer.poof()             # Draw/show/poof the data"
   ]
  },
  {
   "cell_type": "markdown",
   "metadata": {},
   "source": [
    "# Ensemble  method"
   ]
  },
  {
   "cell_type": "code",
   "execution_count": null,
   "metadata": {},
   "outputs": [],
   "source": [
    "from sklearn.ensemble import RandomForestClassifier\n",
    "from sklearn.ensemble import VotingClassifier\n",
    "from sklearn.linear_model import LogisticRegression\n",
    "from sklearn.svm import SVC\n",
    "\n",
    "log_clf = LogisticRegression(solver='lbfgs',multi_class='auto',random_state=0)\n",
    "rnd_clf = RandomForestClassifier(random_state=0)\n",
    "svm_clf = SVC(gamma=.1, kernel='rbf', probability=True,random_state=0)\n",
    "\n",
    "voting_clf = VotingClassifier(estimators=[('lr', log_clf), ('dt', dt_clf), ('rf', tuned_rf),\n",
    "                                          ('nb', NB_model),('svc', svm_clf)],voting='soft')\n",
    "\n",
    "voting_clf.fit(X_train, y_train)\n",
    "\n",
    "y_pred_test = voting_clf.predict_proba(X_test)\n",
    "y_pred_train = voting_clf.predict_proba(X_train)\n",
    "y_pred = voting_clf.predict(X_test)\n",
    "\n",
    "print(\"accuracy score : %.3f\" % accuracy_score(y_test,y_pred))\n",
    "\n",
    "print(\"Ensemble Model Train log loss : %.3f\" % log_loss(y_train, y_pred_train)) \n",
    "print(\"Ensemble Model Test log loss : %.3f\" % log_loss(y_test, y_pred_test)) \n",
    "print(\"\\n\")\n",
    "\n",
    "#Let’s look at each classifier’s accuracy on the test set:\n",
    "from sklearn.metrics import accuracy_score\n",
    "for clf in (log_clf,NB_model,dt_clf, tuned_rf, svm_clf, voting_clf):\n",
    "    clf.fit(X_train, y_train.astype(float))\n",
    "    y_pred = clf.predict_proba(X_test)\n",
    "    print(clf.__class__.__name__, log_loss(y_test.astype(float), y_pred))\n",
    "    \n",
    "    \n",
    "#print_error_metrics(y_test,y_pred)\n",
    "# df_matrix = confusion_matrix(y_test, y_pred,labels=np.unique(y_test))\n",
    "# print(\"\\nconfusion_matrix:\")\n",
    "# print(df_matrix)\n",
    "\n",
    "# from sklearn.metrics import classification_report\n",
    "# target_names = ['CLASS1', 'CLASS2','CLASS3']\n",
    "# labels = [1,2,3]\n",
    "\n",
    "# print(\"\\nclassification_report:>\\n\")\n",
    "# print(classification_report(y_test, y_pred,labels=labels, target_names=target_names))\n",
    "\n",
    "# LogisticRegression 0.607500159966858\n",
    "# GaussianNB 0.5812567451640172\n",
    "# DecisionTreeClassifier 0.9270703648747217\n",
    "# RandomForestClassifier 0.48340323753866976\n",
    "# SVC 0.5689986960606733\n",
    "# VotingClassifier 0.506900940069966"
   ]
  },
  {
   "cell_type": "code",
   "execution_count": null,
   "metadata": {},
   "outputs": [],
   "source": [
    "from yellowbrick.classifier import ROCAUC\n",
    "# Instantiate the visualizer with the classification model\n",
    "visualizer = ROCAUC(voting_clf, classes=['1','2','3'])\n",
    "\n",
    "visualizer.fit(X_train, y_train)  # Fit the training data to the visualizer\n",
    "visualizer.score(X_test, y_test)  # Evaluate the model on the test data\n",
    "g = visualizer.poof()             # Draw/show/poof the data"
   ]
  },
  {
   "cell_type": "markdown",
   "metadata": {},
   "source": [
    "# XGBoost classifier"
   ]
  },
  {
   "cell_type": "code",
   "execution_count": null,
   "metadata": {},
   "outputs": [],
   "source": [
    "# from xgboost import XGBClassifier\n",
    "# from sklearn.model_selection import StratifiedKFold\n",
    "# i=1 \n",
    "# kf = StratifiedKFold(n_splits=5,random_state=1,shuffle=True) \n",
    "# for train_index,test_index in kf.split(X,y):\n",
    "#     print('\\n{} of kfold {}'.format(i,kf.n_splits)) \n",
    "#     xtr,xvl = X.loc[train_index],X.loc[test_index] \n",
    "#     ytr,yvl = y[train_index],y[test_index]     \n",
    "#     model = XGBClassifier(n_estimators=50, max_depth=4)\n",
    "#     model.fit(xtr, ytr)     \n",
    "#     pred_test = model.predict(xvl) \n",
    "#     score = accuracy_score(yvl,pred_test)\n",
    "#     print('accuracy_score',score)     \n",
    "#     i+=1 \n",
    "# # pred_test = model.predict(test) \n",
    "# # pred3=model.predict_proba(test)[:,1]\n"
   ]
  },
  {
   "cell_type": "code",
   "execution_count": null,
   "metadata": {},
   "outputs": [],
   "source": [
    "from xgboost import XGBClassifier\n",
    "xgb_model = XGBClassifier(n_estimators=50, max_depth=4)\n",
    "xgb_model.fit(X_train, y_train)\n",
    "y_pred_test = xgb_model.predict_proba(X_test)\n",
    "y_pred_train = xgb_model.predict_proba(X_train)\n",
    "\n",
    "y_pred = xgb_model.predict(X_test)\n",
    "\n",
    "print(\"XGBoost Model Train log loss : %.3f\" % log_loss(y_train, y_pred_train)) \n",
    "print(\"XGBoost Model Test log loss : %.3f\" % log_loss(y_test, y_pred_test)) \n",
    "print(\"\\n\")\n",
    "\n",
    "print_error_metrics(y_test,y_pred)\n",
    "\n",
    "df_matrix = confusion_matrix(y_test, y_pred,labels=np.unique(y_test))\n",
    "print(\"\\nconfusion_matrix:\")\n",
    "print(df_matrix)\n",
    "\n",
    "from sklearn.metrics import classification_report\n",
    "target_names = ['CLASS1', 'CLASS2','CLASS3']\n",
    "labels = [1,2,3]\n",
    "\n",
    "print(\"\\nclassification_report:>\\n\")\n",
    "print(classification_report(y_test, y_pred,labels=labels, target_names=target_names))"
   ]
  },
  {
   "cell_type": "code",
   "execution_count": null,
   "metadata": {},
   "outputs": [],
   "source": [
    "from yellowbrick.classifier import ROCAUC\n",
    "# Instantiate the visualizer with the classification model\n",
    "visualizer = ROCAUC(xgb_model, classes=['1','2','3'])\n",
    "\n",
    "visualizer.fit(X_train, y_train)  # Fit the training data to the visualizer\n",
    "visualizer.score(X_test, y_test)  # Evaluate the model on the test data\n",
    "g = visualizer.poof()             # Draw/show/poof the data"
   ]
  },
  {
   "cell_type": "markdown",
   "metadata": {},
   "source": [
    "# Conclusion : As the test Logloss is lowest for XGBoost, we will chose the XGBoost for our model. "
   ]
  },
  {
   "cell_type": "code",
   "execution_count": null,
   "metadata": {},
   "outputs": [],
   "source": [
    "import random\n",
    "# Prepare Data\n",
    "df = df.groupby('reason_for_absence').size().reset_index(name='counts')\n",
    "n = df['reason_for_absence'].unique().__len__()+1\n",
    "all_colors = list(plt.cm.colors.cnames.keys())\n",
    "random.seed(100)\n",
    "c = random.choices(all_colors, k=n)\n",
    "\n",
    "# Plot Bars\n",
    "plt.figure(figsize=(12,10), dpi= 80)\n",
    "plt.bar(df['reason_for_absence'], df['counts'], color=c, width=.5)\n",
    "\n",
    "df['counts']\n",
    "\n",
    "for i, val in enumerate(df['counts'].values):\n",
    "    plt.text(i, val, float(val), horizontalalignment='center', verticalalignment='bottom',\\\n",
    "             fontdict={'fontweight':500, 'size':12})\n",
    "\n",
    "# Decoration\n",
    "#plt.gca().set_xticklabels(df['Reason for absence'], rotation=60, horizontalalignment= 'right')\n",
    "plt.title(\"Number of categories for Reason of absence\", fontsize=22)\n",
    "plt.ylabel('#count by  category ')\n",
    "plt.ylim(0, 150)\n",
    "plt.show()"
   ]
  },
  {
   "cell_type": "markdown",
   "metadata": {},
   "source": [
    "#  medical consultation (23) & dental consultation (28) are most frequent."
   ]
  }
 ],
 "metadata": {
  "kernelspec": {
   "display_name": "Python 3",
   "language": "python",
   "name": "python3"
  },
  "language_info": {
   "codemirror_mode": {
    "name": "ipython",
    "version": 3
   },
   "file_extension": ".py",
   "mimetype": "text/x-python",
   "name": "python",
   "nbconvert_exporter": "python",
   "pygments_lexer": "ipython3",
   "version": "3.7.3"
  }
 },
 "nbformat": 4,
 "nbformat_minor": 2
}
